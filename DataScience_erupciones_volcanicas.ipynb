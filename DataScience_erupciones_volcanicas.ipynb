{
  "nbformat": 4,
  "nbformat_minor": 0,
  "metadata": {
    "colab": {
      "provenance": [],
      "collapsed_sections": [
        "-MGbB8PHb-80",
        "Du4YFXb4Whyn",
        "FUL_nEu3pxKy",
        "vGiowxrFAISz",
        "TynG0BrdxPlg",
        "RZuHBMLH55o7",
        "CsgJYuc36ue_",
        "Mxsx3DMcAMQF",
        "_Dr9k-l3IHu3"
      ]
    },
    "kernelspec": {
      "name": "python3",
      "display_name": "Python 3"
    },
    "language_info": {
      "name": "python"
    }
  },
  "cells": [
    {
      "cell_type": "markdown",
      "source": [
        "# **CLASIFICACIÓN DE ERUPCIONES VOLCÁNICAS**\n",
        "\n",
        "---\n",
        "\n"
      ],
      "metadata": {
        "id": "4ok_reTYSjqa"
      }
    },
    {
      "cell_type": "markdown",
      "source": [
        "# **TAREA 1. EXPLORACIÓN PREVIA DE LOS DATOS**"
      ],
      "metadata": {
        "id": "-MGbB8PHb-80"
      }
    },
    {
      "cell_type": "markdown",
      "source": [
        "###1.1 Importación de paquetes"
      ],
      "metadata": {
        "id": "Du4YFXb4Whyn"
      }
    },
    {
      "cell_type": "code",
      "execution_count": 253,
      "metadata": {
        "id": "sLFYeVUTWVYC"
      },
      "outputs": [],
      "source": [
        "# Importación de paquetes\n",
        "import numpy as np\n",
        "import pandas as pd\n",
        "import matplotlib.pyplot as plt\n",
        "import seaborn as sns\n",
        "\n",
        "\n",
        "%matplotlib inline\n",
        "\n",
        "# Paquetes de modelos de ML\n",
        "from sklearn.preprocessing import StandardScaler\n",
        "from sklearn.model_selection import train_test_split\n",
        "from sklearn.ensemble import RandomForestClassifier\n",
        "\n",
        "# Paquetes de evaluacion de precisión\n",
        "from sklearn.metrics import f1_score\n",
        "\n",
        "import warnings\n",
        "warnings.filterwarnings(\"ignore\")"
      ]
    },
    {
      "cell_type": "markdown",
      "source": [
        "###1.2 Lectura de datasets"
      ],
      "metadata": {
        "id": "FUL_nEu3pxKy"
      }
    },
    {
      "cell_type": "code",
      "source": [
        "#Creación de variables donde se cargan los dataset\n",
        "df_train = pd.read_csv('jm_train.csv', sep = ',', na_values='#N/D')\n",
        "df_test = pd.read_csv('jm_X_test.csv', sep = ',', na_values='#N/D')\n"
      ],
      "metadata": {
        "id": "9zN7hBaFW44M"
      },
      "execution_count": 254,
      "outputs": []
    },
    {
      "cell_type": "code",
      "source": [
        "#Visualización de los dataset\n",
        "df_train.head(6)"
      ],
      "metadata": {
        "colab": {
          "base_uri": "https://localhost:8080/",
          "height": 0
        },
        "id": "2KF6cthaqJSS",
        "outputId": "7906cec6-4d00-4f3d-f474-43de754bf77a"
      },
      "execution_count": 255,
      "outputs": [
        {
          "output_type": "execute_result",
          "data": {
            "text/plain": [
              "   feature1  feature2  feature3  feature4  feature5  feature6  target\n",
              "0  0.474335  0.881640 -2.050543 -1.251935 -1.035151 -1.934367       4\n",
              "1 -1.034675  1.741801 -1.660629 -1.555989 -0.337553 -2.473838       0\n",
              "2 -0.563221 -0.688381 -0.318415 -1.845172  0.352366 -0.912928       1\n",
              "3 -1.268179  2.770688  1.054193  2.830389  0.395093  0.677715       3\n",
              "4 -1.216380 -0.391267 -2.898931 -0.913074 -2.171857 -2.367490       0\n",
              "5 -0.318657  1.494771  1.016929 -0.406147  1.404118 -0.079592       2"
            ],
            "text/html": [
              "\n",
              "  <div id=\"df-be4d283c-0c2f-4964-87cd-bbb6f556bbc5\">\n",
              "    <div class=\"colab-df-container\">\n",
              "      <div>\n",
              "<style scoped>\n",
              "    .dataframe tbody tr th:only-of-type {\n",
              "        vertical-align: middle;\n",
              "    }\n",
              "\n",
              "    .dataframe tbody tr th {\n",
              "        vertical-align: top;\n",
              "    }\n",
              "\n",
              "    .dataframe thead th {\n",
              "        text-align: right;\n",
              "    }\n",
              "</style>\n",
              "<table border=\"1\" class=\"dataframe\">\n",
              "  <thead>\n",
              "    <tr style=\"text-align: right;\">\n",
              "      <th></th>\n",
              "      <th>feature1</th>\n",
              "      <th>feature2</th>\n",
              "      <th>feature3</th>\n",
              "      <th>feature4</th>\n",
              "      <th>feature5</th>\n",
              "      <th>feature6</th>\n",
              "      <th>target</th>\n",
              "    </tr>\n",
              "  </thead>\n",
              "  <tbody>\n",
              "    <tr>\n",
              "      <th>0</th>\n",
              "      <td>0.474335</td>\n",
              "      <td>0.881640</td>\n",
              "      <td>-2.050543</td>\n",
              "      <td>-1.251935</td>\n",
              "      <td>-1.035151</td>\n",
              "      <td>-1.934367</td>\n",
              "      <td>4</td>\n",
              "    </tr>\n",
              "    <tr>\n",
              "      <th>1</th>\n",
              "      <td>-1.034675</td>\n",
              "      <td>1.741801</td>\n",
              "      <td>-1.660629</td>\n",
              "      <td>-1.555989</td>\n",
              "      <td>-0.337553</td>\n",
              "      <td>-2.473838</td>\n",
              "      <td>0</td>\n",
              "    </tr>\n",
              "    <tr>\n",
              "      <th>2</th>\n",
              "      <td>-0.563221</td>\n",
              "      <td>-0.688381</td>\n",
              "      <td>-0.318415</td>\n",
              "      <td>-1.845172</td>\n",
              "      <td>0.352366</td>\n",
              "      <td>-0.912928</td>\n",
              "      <td>1</td>\n",
              "    </tr>\n",
              "    <tr>\n",
              "      <th>3</th>\n",
              "      <td>-1.268179</td>\n",
              "      <td>2.770688</td>\n",
              "      <td>1.054193</td>\n",
              "      <td>2.830389</td>\n",
              "      <td>0.395093</td>\n",
              "      <td>0.677715</td>\n",
              "      <td>3</td>\n",
              "    </tr>\n",
              "    <tr>\n",
              "      <th>4</th>\n",
              "      <td>-1.216380</td>\n",
              "      <td>-0.391267</td>\n",
              "      <td>-2.898931</td>\n",
              "      <td>-0.913074</td>\n",
              "      <td>-2.171857</td>\n",
              "      <td>-2.367490</td>\n",
              "      <td>0</td>\n",
              "    </tr>\n",
              "    <tr>\n",
              "      <th>5</th>\n",
              "      <td>-0.318657</td>\n",
              "      <td>1.494771</td>\n",
              "      <td>1.016929</td>\n",
              "      <td>-0.406147</td>\n",
              "      <td>1.404118</td>\n",
              "      <td>-0.079592</td>\n",
              "      <td>2</td>\n",
              "    </tr>\n",
              "  </tbody>\n",
              "</table>\n",
              "</div>\n",
              "      <button class=\"colab-df-convert\" onclick=\"convertToInteractive('df-be4d283c-0c2f-4964-87cd-bbb6f556bbc5')\"\n",
              "              title=\"Convert this dataframe to an interactive table.\"\n",
              "              style=\"display:none;\">\n",
              "        \n",
              "  <svg xmlns=\"http://www.w3.org/2000/svg\" height=\"24px\"viewBox=\"0 0 24 24\"\n",
              "       width=\"24px\">\n",
              "    <path d=\"M0 0h24v24H0V0z\" fill=\"none\"/>\n",
              "    <path d=\"M18.56 5.44l.94 2.06.94-2.06 2.06-.94-2.06-.94-.94-2.06-.94 2.06-2.06.94zm-11 1L8.5 8.5l.94-2.06 2.06-.94-2.06-.94L8.5 2.5l-.94 2.06-2.06.94zm10 10l.94 2.06.94-2.06 2.06-.94-2.06-.94-.94-2.06-.94 2.06-2.06.94z\"/><path d=\"M17.41 7.96l-1.37-1.37c-.4-.4-.92-.59-1.43-.59-.52 0-1.04.2-1.43.59L10.3 9.45l-7.72 7.72c-.78.78-.78 2.05 0 2.83L4 21.41c.39.39.9.59 1.41.59.51 0 1.02-.2 1.41-.59l7.78-7.78 2.81-2.81c.8-.78.8-2.07 0-2.86zM5.41 20L4 18.59l7.72-7.72 1.47 1.35L5.41 20z\"/>\n",
              "  </svg>\n",
              "      </button>\n",
              "      \n",
              "  <style>\n",
              "    .colab-df-container {\n",
              "      display:flex;\n",
              "      flex-wrap:wrap;\n",
              "      gap: 12px;\n",
              "    }\n",
              "\n",
              "    .colab-df-convert {\n",
              "      background-color: #E8F0FE;\n",
              "      border: none;\n",
              "      border-radius: 50%;\n",
              "      cursor: pointer;\n",
              "      display: none;\n",
              "      fill: #1967D2;\n",
              "      height: 32px;\n",
              "      padding: 0 0 0 0;\n",
              "      width: 32px;\n",
              "    }\n",
              "\n",
              "    .colab-df-convert:hover {\n",
              "      background-color: #E2EBFA;\n",
              "      box-shadow: 0px 1px 2px rgba(60, 64, 67, 0.3), 0px 1px 3px 1px rgba(60, 64, 67, 0.15);\n",
              "      fill: #174EA6;\n",
              "    }\n",
              "\n",
              "    [theme=dark] .colab-df-convert {\n",
              "      background-color: #3B4455;\n",
              "      fill: #D2E3FC;\n",
              "    }\n",
              "\n",
              "    [theme=dark] .colab-df-convert:hover {\n",
              "      background-color: #434B5C;\n",
              "      box-shadow: 0px 1px 3px 1px rgba(0, 0, 0, 0.15);\n",
              "      filter: drop-shadow(0px 1px 2px rgba(0, 0, 0, 0.3));\n",
              "      fill: #FFFFFF;\n",
              "    }\n",
              "  </style>\n",
              "\n",
              "      <script>\n",
              "        const buttonEl =\n",
              "          document.querySelector('#df-be4d283c-0c2f-4964-87cd-bbb6f556bbc5 button.colab-df-convert');\n",
              "        buttonEl.style.display =\n",
              "          google.colab.kernel.accessAllowed ? 'block' : 'none';\n",
              "\n",
              "        async function convertToInteractive(key) {\n",
              "          const element = document.querySelector('#df-be4d283c-0c2f-4964-87cd-bbb6f556bbc5');\n",
              "          const dataTable =\n",
              "            await google.colab.kernel.invokeFunction('convertToInteractive',\n",
              "                                                     [key], {});\n",
              "          if (!dataTable) return;\n",
              "\n",
              "          const docLinkHtml = 'Like what you see? Visit the ' +\n",
              "            '<a target=\"_blank\" href=https://colab.research.google.com/notebooks/data_table.ipynb>data table notebook</a>'\n",
              "            + ' to learn more about interactive tables.';\n",
              "          element.innerHTML = '';\n",
              "          dataTable['output_type'] = 'display_data';\n",
              "          await google.colab.output.renderOutput(dataTable, element);\n",
              "          const docLink = document.createElement('div');\n",
              "          docLink.innerHTML = docLinkHtml;\n",
              "          element.appendChild(docLink);\n",
              "        }\n",
              "      </script>\n",
              "    </div>\n",
              "  </div>\n",
              "  "
            ]
          },
          "metadata": {},
          "execution_count": 255
        }
      ]
    },
    {
      "cell_type": "code",
      "source": [
        "df_test.head(6)"
      ],
      "metadata": {
        "colab": {
          "base_uri": "https://localhost:8080/",
          "height": 0
        },
        "id": "xdpt8nLjqjD4",
        "outputId": "8e816dc7-53b6-4736-bec2-127742f674e2"
      },
      "execution_count": 256,
      "outputs": [
        {
          "output_type": "execute_result",
          "data": {
            "text/plain": [
              "   feature1  feature2  feature3  feature4  feature5  feature6\n",
              "0  0.943723 -2.985473 -0.938218  3.580261 -3.038106  2.080338\n",
              "1 -0.899819  1.295568  1.274513  0.718186  1.117035  0.463068\n",
              "2  0.293281 -0.099317  1.874902 -0.589582  1.828441  1.011596\n",
              "3 -1.134804  0.888585 -1.464499 -1.183056 -0.525729 -1.963822\n",
              "4 -0.909240  1.575797  0.697212  1.197092  0.486185  0.222644\n",
              "5 -1.259524 -0.298085  2.043900 -0.945770  2.108906  0.622710"
            ],
            "text/html": [
              "\n",
              "  <div id=\"df-1dd67402-07f7-4c60-b757-88a1782a81f2\">\n",
              "    <div class=\"colab-df-container\">\n",
              "      <div>\n",
              "<style scoped>\n",
              "    .dataframe tbody tr th:only-of-type {\n",
              "        vertical-align: middle;\n",
              "    }\n",
              "\n",
              "    .dataframe tbody tr th {\n",
              "        vertical-align: top;\n",
              "    }\n",
              "\n",
              "    .dataframe thead th {\n",
              "        text-align: right;\n",
              "    }\n",
              "</style>\n",
              "<table border=\"1\" class=\"dataframe\">\n",
              "  <thead>\n",
              "    <tr style=\"text-align: right;\">\n",
              "      <th></th>\n",
              "      <th>feature1</th>\n",
              "      <th>feature2</th>\n",
              "      <th>feature3</th>\n",
              "      <th>feature4</th>\n",
              "      <th>feature5</th>\n",
              "      <th>feature6</th>\n",
              "    </tr>\n",
              "  </thead>\n",
              "  <tbody>\n",
              "    <tr>\n",
              "      <th>0</th>\n",
              "      <td>0.943723</td>\n",
              "      <td>-2.985473</td>\n",
              "      <td>-0.938218</td>\n",
              "      <td>3.580261</td>\n",
              "      <td>-3.038106</td>\n",
              "      <td>2.080338</td>\n",
              "    </tr>\n",
              "    <tr>\n",
              "      <th>1</th>\n",
              "      <td>-0.899819</td>\n",
              "      <td>1.295568</td>\n",
              "      <td>1.274513</td>\n",
              "      <td>0.718186</td>\n",
              "      <td>1.117035</td>\n",
              "      <td>0.463068</td>\n",
              "    </tr>\n",
              "    <tr>\n",
              "      <th>2</th>\n",
              "      <td>0.293281</td>\n",
              "      <td>-0.099317</td>\n",
              "      <td>1.874902</td>\n",
              "      <td>-0.589582</td>\n",
              "      <td>1.828441</td>\n",
              "      <td>1.011596</td>\n",
              "    </tr>\n",
              "    <tr>\n",
              "      <th>3</th>\n",
              "      <td>-1.134804</td>\n",
              "      <td>0.888585</td>\n",
              "      <td>-1.464499</td>\n",
              "      <td>-1.183056</td>\n",
              "      <td>-0.525729</td>\n",
              "      <td>-1.963822</td>\n",
              "    </tr>\n",
              "    <tr>\n",
              "      <th>4</th>\n",
              "      <td>-0.909240</td>\n",
              "      <td>1.575797</td>\n",
              "      <td>0.697212</td>\n",
              "      <td>1.197092</td>\n",
              "      <td>0.486185</td>\n",
              "      <td>0.222644</td>\n",
              "    </tr>\n",
              "    <tr>\n",
              "      <th>5</th>\n",
              "      <td>-1.259524</td>\n",
              "      <td>-0.298085</td>\n",
              "      <td>2.043900</td>\n",
              "      <td>-0.945770</td>\n",
              "      <td>2.108906</td>\n",
              "      <td>0.622710</td>\n",
              "    </tr>\n",
              "  </tbody>\n",
              "</table>\n",
              "</div>\n",
              "      <button class=\"colab-df-convert\" onclick=\"convertToInteractive('df-1dd67402-07f7-4c60-b757-88a1782a81f2')\"\n",
              "              title=\"Convert this dataframe to an interactive table.\"\n",
              "              style=\"display:none;\">\n",
              "        \n",
              "  <svg xmlns=\"http://www.w3.org/2000/svg\" height=\"24px\"viewBox=\"0 0 24 24\"\n",
              "       width=\"24px\">\n",
              "    <path d=\"M0 0h24v24H0V0z\" fill=\"none\"/>\n",
              "    <path d=\"M18.56 5.44l.94 2.06.94-2.06 2.06-.94-2.06-.94-.94-2.06-.94 2.06-2.06.94zm-11 1L8.5 8.5l.94-2.06 2.06-.94-2.06-.94L8.5 2.5l-.94 2.06-2.06.94zm10 10l.94 2.06.94-2.06 2.06-.94-2.06-.94-.94-2.06-.94 2.06-2.06.94z\"/><path d=\"M17.41 7.96l-1.37-1.37c-.4-.4-.92-.59-1.43-.59-.52 0-1.04.2-1.43.59L10.3 9.45l-7.72 7.72c-.78.78-.78 2.05 0 2.83L4 21.41c.39.39.9.59 1.41.59.51 0 1.02-.2 1.41-.59l7.78-7.78 2.81-2.81c.8-.78.8-2.07 0-2.86zM5.41 20L4 18.59l7.72-7.72 1.47 1.35L5.41 20z\"/>\n",
              "  </svg>\n",
              "      </button>\n",
              "      \n",
              "  <style>\n",
              "    .colab-df-container {\n",
              "      display:flex;\n",
              "      flex-wrap:wrap;\n",
              "      gap: 12px;\n",
              "    }\n",
              "\n",
              "    .colab-df-convert {\n",
              "      background-color: #E8F0FE;\n",
              "      border: none;\n",
              "      border-radius: 50%;\n",
              "      cursor: pointer;\n",
              "      display: none;\n",
              "      fill: #1967D2;\n",
              "      height: 32px;\n",
              "      padding: 0 0 0 0;\n",
              "      width: 32px;\n",
              "    }\n",
              "\n",
              "    .colab-df-convert:hover {\n",
              "      background-color: #E2EBFA;\n",
              "      box-shadow: 0px 1px 2px rgba(60, 64, 67, 0.3), 0px 1px 3px 1px rgba(60, 64, 67, 0.15);\n",
              "      fill: #174EA6;\n",
              "    }\n",
              "\n",
              "    [theme=dark] .colab-df-convert {\n",
              "      background-color: #3B4455;\n",
              "      fill: #D2E3FC;\n",
              "    }\n",
              "\n",
              "    [theme=dark] .colab-df-convert:hover {\n",
              "      background-color: #434B5C;\n",
              "      box-shadow: 0px 1px 3px 1px rgba(0, 0, 0, 0.15);\n",
              "      filter: drop-shadow(0px 1px 2px rgba(0, 0, 0, 0.3));\n",
              "      fill: #FFFFFF;\n",
              "    }\n",
              "  </style>\n",
              "\n",
              "      <script>\n",
              "        const buttonEl =\n",
              "          document.querySelector('#df-1dd67402-07f7-4c60-b757-88a1782a81f2 button.colab-df-convert');\n",
              "        buttonEl.style.display =\n",
              "          google.colab.kernel.accessAllowed ? 'block' : 'none';\n",
              "\n",
              "        async function convertToInteractive(key) {\n",
              "          const element = document.querySelector('#df-1dd67402-07f7-4c60-b757-88a1782a81f2');\n",
              "          const dataTable =\n",
              "            await google.colab.kernel.invokeFunction('convertToInteractive',\n",
              "                                                     [key], {});\n",
              "          if (!dataTable) return;\n",
              "\n",
              "          const docLinkHtml = 'Like what you see? Visit the ' +\n",
              "            '<a target=\"_blank\" href=https://colab.research.google.com/notebooks/data_table.ipynb>data table notebook</a>'\n",
              "            + ' to learn more about interactive tables.';\n",
              "          element.innerHTML = '';\n",
              "          dataTable['output_type'] = 'display_data';\n",
              "          await google.colab.output.renderOutput(dataTable, element);\n",
              "          const docLink = document.createElement('div');\n",
              "          docLink.innerHTML = docLinkHtml;\n",
              "          element.appendChild(docLink);\n",
              "        }\n",
              "      </script>\n",
              "    </div>\n",
              "  </div>\n",
              "  "
            ]
          },
          "metadata": {},
          "execution_count": 256
        }
      ]
    },
    {
      "cell_type": "code",
      "source": [
        "#Información de los dataset\n",
        "df_train.info()"
      ],
      "metadata": {
        "colab": {
          "base_uri": "https://localhost:8080/"
        },
        "id": "QtwAxdQbXfI4",
        "outputId": "9b8a9afb-3701-4de4-d301-304f15756f81"
      },
      "execution_count": 257,
      "outputs": [
        {
          "output_type": "stream",
          "name": "stdout",
          "text": [
            "<class 'pandas.core.frame.DataFrame'>\n",
            "RangeIndex: 2100 entries, 0 to 2099\n",
            "Data columns (total 7 columns):\n",
            " #   Column    Non-Null Count  Dtype  \n",
            "---  ------    --------------  -----  \n",
            " 0   feature1  2100 non-null   float64\n",
            " 1   feature2  2100 non-null   float64\n",
            " 2   feature3  2100 non-null   float64\n",
            " 3   feature4  2100 non-null   float64\n",
            " 4   feature5  2100 non-null   float64\n",
            " 5   feature6  2100 non-null   float64\n",
            " 6   target    2100 non-null   int64  \n",
            "dtypes: float64(6), int64(1)\n",
            "memory usage: 115.0 KB\n"
          ]
        }
      ]
    },
    {
      "cell_type": "code",
      "source": [
        "df_test.info()"
      ],
      "metadata": {
        "colab": {
          "base_uri": "https://localhost:8080/"
        },
        "id": "GltCpPx3q0Yk",
        "outputId": "15b75f88-8513-46f2-d022-bec4cafb8e59"
      },
      "execution_count": 258,
      "outputs": [
        {
          "output_type": "stream",
          "name": "stdout",
          "text": [
            "<class 'pandas.core.frame.DataFrame'>\n",
            "RangeIndex: 900 entries, 0 to 899\n",
            "Data columns (total 6 columns):\n",
            " #   Column    Non-Null Count  Dtype  \n",
            "---  ------    --------------  -----  \n",
            " 0   feature1  900 non-null    float64\n",
            " 1   feature2  900 non-null    float64\n",
            " 2   feature3  900 non-null    float64\n",
            " 3   feature4  900 non-null    float64\n",
            " 4   feature5  900 non-null    float64\n",
            " 5   feature6  900 non-null    float64\n",
            "dtypes: float64(6)\n",
            "memory usage: 42.3 KB\n"
          ]
        }
      ]
    },
    {
      "cell_type": "code",
      "source": [
        "#Modificación de los nombres de las columnas de ambos dataset para una mejor interpretación de los datos\n",
        "df_train.columns = ['medicion_s1', 'medicion_s2', 'medicion_s3', 'medicion_s4', 'medicion_s5', 'medicion_s6', 'tipo_erupcion']\n",
        "df_test.columns = ['medicion_s1', 'medicion_s2', 'medicion_s3', 'medicion_s4', 'medicion_s5', 'medicion_s6']"
      ],
      "metadata": {
        "id": "7Qi89qGqAnPV"
      },
      "execution_count": 259,
      "outputs": []
    },
    {
      "cell_type": "code",
      "source": [
        "#Visualización de los cambios realizados\n",
        "df_train.head(2)"
      ],
      "metadata": {
        "colab": {
          "base_uri": "https://localhost:8080/",
          "height": 0
        },
        "id": "NdoBT7qCD19k",
        "outputId": "150a2385-c505-47c9-ba75-1cfd8409546b"
      },
      "execution_count": 260,
      "outputs": [
        {
          "output_type": "execute_result",
          "data": {
            "text/plain": [
              "   medicion_s1  medicion_s2  medicion_s3  medicion_s4  medicion_s5  \\\n",
              "0     0.474335     0.881640    -2.050543    -1.251935    -1.035151   \n",
              "1    -1.034675     1.741801    -1.660629    -1.555989    -0.337553   \n",
              "\n",
              "   medicion_s6  tipo_erupcion  \n",
              "0    -1.934367              4  \n",
              "1    -2.473838              0  "
            ],
            "text/html": [
              "\n",
              "  <div id=\"df-412e83eb-6951-48d1-ae55-f93196d564c7\">\n",
              "    <div class=\"colab-df-container\">\n",
              "      <div>\n",
              "<style scoped>\n",
              "    .dataframe tbody tr th:only-of-type {\n",
              "        vertical-align: middle;\n",
              "    }\n",
              "\n",
              "    .dataframe tbody tr th {\n",
              "        vertical-align: top;\n",
              "    }\n",
              "\n",
              "    .dataframe thead th {\n",
              "        text-align: right;\n",
              "    }\n",
              "</style>\n",
              "<table border=\"1\" class=\"dataframe\">\n",
              "  <thead>\n",
              "    <tr style=\"text-align: right;\">\n",
              "      <th></th>\n",
              "      <th>medicion_s1</th>\n",
              "      <th>medicion_s2</th>\n",
              "      <th>medicion_s3</th>\n",
              "      <th>medicion_s4</th>\n",
              "      <th>medicion_s5</th>\n",
              "      <th>medicion_s6</th>\n",
              "      <th>tipo_erupcion</th>\n",
              "    </tr>\n",
              "  </thead>\n",
              "  <tbody>\n",
              "    <tr>\n",
              "      <th>0</th>\n",
              "      <td>0.474335</td>\n",
              "      <td>0.881640</td>\n",
              "      <td>-2.050543</td>\n",
              "      <td>-1.251935</td>\n",
              "      <td>-1.035151</td>\n",
              "      <td>-1.934367</td>\n",
              "      <td>4</td>\n",
              "    </tr>\n",
              "    <tr>\n",
              "      <th>1</th>\n",
              "      <td>-1.034675</td>\n",
              "      <td>1.741801</td>\n",
              "      <td>-1.660629</td>\n",
              "      <td>-1.555989</td>\n",
              "      <td>-0.337553</td>\n",
              "      <td>-2.473838</td>\n",
              "      <td>0</td>\n",
              "    </tr>\n",
              "  </tbody>\n",
              "</table>\n",
              "</div>\n",
              "      <button class=\"colab-df-convert\" onclick=\"convertToInteractive('df-412e83eb-6951-48d1-ae55-f93196d564c7')\"\n",
              "              title=\"Convert this dataframe to an interactive table.\"\n",
              "              style=\"display:none;\">\n",
              "        \n",
              "  <svg xmlns=\"http://www.w3.org/2000/svg\" height=\"24px\"viewBox=\"0 0 24 24\"\n",
              "       width=\"24px\">\n",
              "    <path d=\"M0 0h24v24H0V0z\" fill=\"none\"/>\n",
              "    <path d=\"M18.56 5.44l.94 2.06.94-2.06 2.06-.94-2.06-.94-.94-2.06-.94 2.06-2.06.94zm-11 1L8.5 8.5l.94-2.06 2.06-.94-2.06-.94L8.5 2.5l-.94 2.06-2.06.94zm10 10l.94 2.06.94-2.06 2.06-.94-2.06-.94-.94-2.06-.94 2.06-2.06.94z\"/><path d=\"M17.41 7.96l-1.37-1.37c-.4-.4-.92-.59-1.43-.59-.52 0-1.04.2-1.43.59L10.3 9.45l-7.72 7.72c-.78.78-.78 2.05 0 2.83L4 21.41c.39.39.9.59 1.41.59.51 0 1.02-.2 1.41-.59l7.78-7.78 2.81-2.81c.8-.78.8-2.07 0-2.86zM5.41 20L4 18.59l7.72-7.72 1.47 1.35L5.41 20z\"/>\n",
              "  </svg>\n",
              "      </button>\n",
              "      \n",
              "  <style>\n",
              "    .colab-df-container {\n",
              "      display:flex;\n",
              "      flex-wrap:wrap;\n",
              "      gap: 12px;\n",
              "    }\n",
              "\n",
              "    .colab-df-convert {\n",
              "      background-color: #E8F0FE;\n",
              "      border: none;\n",
              "      border-radius: 50%;\n",
              "      cursor: pointer;\n",
              "      display: none;\n",
              "      fill: #1967D2;\n",
              "      height: 32px;\n",
              "      padding: 0 0 0 0;\n",
              "      width: 32px;\n",
              "    }\n",
              "\n",
              "    .colab-df-convert:hover {\n",
              "      background-color: #E2EBFA;\n",
              "      box-shadow: 0px 1px 2px rgba(60, 64, 67, 0.3), 0px 1px 3px 1px rgba(60, 64, 67, 0.15);\n",
              "      fill: #174EA6;\n",
              "    }\n",
              "\n",
              "    [theme=dark] .colab-df-convert {\n",
              "      background-color: #3B4455;\n",
              "      fill: #D2E3FC;\n",
              "    }\n",
              "\n",
              "    [theme=dark] .colab-df-convert:hover {\n",
              "      background-color: #434B5C;\n",
              "      box-shadow: 0px 1px 3px 1px rgba(0, 0, 0, 0.15);\n",
              "      filter: drop-shadow(0px 1px 2px rgba(0, 0, 0, 0.3));\n",
              "      fill: #FFFFFF;\n",
              "    }\n",
              "  </style>\n",
              "\n",
              "      <script>\n",
              "        const buttonEl =\n",
              "          document.querySelector('#df-412e83eb-6951-48d1-ae55-f93196d564c7 button.colab-df-convert');\n",
              "        buttonEl.style.display =\n",
              "          google.colab.kernel.accessAllowed ? 'block' : 'none';\n",
              "\n",
              "        async function convertToInteractive(key) {\n",
              "          const element = document.querySelector('#df-412e83eb-6951-48d1-ae55-f93196d564c7');\n",
              "          const dataTable =\n",
              "            await google.colab.kernel.invokeFunction('convertToInteractive',\n",
              "                                                     [key], {});\n",
              "          if (!dataTable) return;\n",
              "\n",
              "          const docLinkHtml = 'Like what you see? Visit the ' +\n",
              "            '<a target=\"_blank\" href=https://colab.research.google.com/notebooks/data_table.ipynb>data table notebook</a>'\n",
              "            + ' to learn more about interactive tables.';\n",
              "          element.innerHTML = '';\n",
              "          dataTable['output_type'] = 'display_data';\n",
              "          await google.colab.output.renderOutput(dataTable, element);\n",
              "          const docLink = document.createElement('div');\n",
              "          docLink.innerHTML = docLinkHtml;\n",
              "          element.appendChild(docLink);\n",
              "        }\n",
              "      </script>\n",
              "    </div>\n",
              "  </div>\n",
              "  "
            ]
          },
          "metadata": {},
          "execution_count": 260
        }
      ]
    },
    {
      "cell_type": "code",
      "source": [
        "df_test.head(2)"
      ],
      "metadata": {
        "colab": {
          "base_uri": "https://localhost:8080/",
          "height": 0
        },
        "id": "rZ4Cv-lxD4WL",
        "outputId": "6ee716f5-433f-437a-9147-b1c461881a53"
      },
      "execution_count": 261,
      "outputs": [
        {
          "output_type": "execute_result",
          "data": {
            "text/plain": [
              "   medicion_s1  medicion_s2  medicion_s3  medicion_s4  medicion_s5  \\\n",
              "0     0.943723    -2.985473    -0.938218     3.580261    -3.038106   \n",
              "1    -0.899819     1.295568     1.274513     0.718186     1.117035   \n",
              "\n",
              "   medicion_s6  \n",
              "0     2.080338  \n",
              "1     0.463068  "
            ],
            "text/html": [
              "\n",
              "  <div id=\"df-1e99f3d2-7738-481a-b593-95ef85cbeb87\">\n",
              "    <div class=\"colab-df-container\">\n",
              "      <div>\n",
              "<style scoped>\n",
              "    .dataframe tbody tr th:only-of-type {\n",
              "        vertical-align: middle;\n",
              "    }\n",
              "\n",
              "    .dataframe tbody tr th {\n",
              "        vertical-align: top;\n",
              "    }\n",
              "\n",
              "    .dataframe thead th {\n",
              "        text-align: right;\n",
              "    }\n",
              "</style>\n",
              "<table border=\"1\" class=\"dataframe\">\n",
              "  <thead>\n",
              "    <tr style=\"text-align: right;\">\n",
              "      <th></th>\n",
              "      <th>medicion_s1</th>\n",
              "      <th>medicion_s2</th>\n",
              "      <th>medicion_s3</th>\n",
              "      <th>medicion_s4</th>\n",
              "      <th>medicion_s5</th>\n",
              "      <th>medicion_s6</th>\n",
              "    </tr>\n",
              "  </thead>\n",
              "  <tbody>\n",
              "    <tr>\n",
              "      <th>0</th>\n",
              "      <td>0.943723</td>\n",
              "      <td>-2.985473</td>\n",
              "      <td>-0.938218</td>\n",
              "      <td>3.580261</td>\n",
              "      <td>-3.038106</td>\n",
              "      <td>2.080338</td>\n",
              "    </tr>\n",
              "    <tr>\n",
              "      <th>1</th>\n",
              "      <td>-0.899819</td>\n",
              "      <td>1.295568</td>\n",
              "      <td>1.274513</td>\n",
              "      <td>0.718186</td>\n",
              "      <td>1.117035</td>\n",
              "      <td>0.463068</td>\n",
              "    </tr>\n",
              "  </tbody>\n",
              "</table>\n",
              "</div>\n",
              "      <button class=\"colab-df-convert\" onclick=\"convertToInteractive('df-1e99f3d2-7738-481a-b593-95ef85cbeb87')\"\n",
              "              title=\"Convert this dataframe to an interactive table.\"\n",
              "              style=\"display:none;\">\n",
              "        \n",
              "  <svg xmlns=\"http://www.w3.org/2000/svg\" height=\"24px\"viewBox=\"0 0 24 24\"\n",
              "       width=\"24px\">\n",
              "    <path d=\"M0 0h24v24H0V0z\" fill=\"none\"/>\n",
              "    <path d=\"M18.56 5.44l.94 2.06.94-2.06 2.06-.94-2.06-.94-.94-2.06-.94 2.06-2.06.94zm-11 1L8.5 8.5l.94-2.06 2.06-.94-2.06-.94L8.5 2.5l-.94 2.06-2.06.94zm10 10l.94 2.06.94-2.06 2.06-.94-2.06-.94-.94-2.06-.94 2.06-2.06.94z\"/><path d=\"M17.41 7.96l-1.37-1.37c-.4-.4-.92-.59-1.43-.59-.52 0-1.04.2-1.43.59L10.3 9.45l-7.72 7.72c-.78.78-.78 2.05 0 2.83L4 21.41c.39.39.9.59 1.41.59.51 0 1.02-.2 1.41-.59l7.78-7.78 2.81-2.81c.8-.78.8-2.07 0-2.86zM5.41 20L4 18.59l7.72-7.72 1.47 1.35L5.41 20z\"/>\n",
              "  </svg>\n",
              "      </button>\n",
              "      \n",
              "  <style>\n",
              "    .colab-df-container {\n",
              "      display:flex;\n",
              "      flex-wrap:wrap;\n",
              "      gap: 12px;\n",
              "    }\n",
              "\n",
              "    .colab-df-convert {\n",
              "      background-color: #E8F0FE;\n",
              "      border: none;\n",
              "      border-radius: 50%;\n",
              "      cursor: pointer;\n",
              "      display: none;\n",
              "      fill: #1967D2;\n",
              "      height: 32px;\n",
              "      padding: 0 0 0 0;\n",
              "      width: 32px;\n",
              "    }\n",
              "\n",
              "    .colab-df-convert:hover {\n",
              "      background-color: #E2EBFA;\n",
              "      box-shadow: 0px 1px 2px rgba(60, 64, 67, 0.3), 0px 1px 3px 1px rgba(60, 64, 67, 0.15);\n",
              "      fill: #174EA6;\n",
              "    }\n",
              "\n",
              "    [theme=dark] .colab-df-convert {\n",
              "      background-color: #3B4455;\n",
              "      fill: #D2E3FC;\n",
              "    }\n",
              "\n",
              "    [theme=dark] .colab-df-convert:hover {\n",
              "      background-color: #434B5C;\n",
              "      box-shadow: 0px 1px 3px 1px rgba(0, 0, 0, 0.15);\n",
              "      filter: drop-shadow(0px 1px 2px rgba(0, 0, 0, 0.3));\n",
              "      fill: #FFFFFF;\n",
              "    }\n",
              "  </style>\n",
              "\n",
              "      <script>\n",
              "        const buttonEl =\n",
              "          document.querySelector('#df-1e99f3d2-7738-481a-b593-95ef85cbeb87 button.colab-df-convert');\n",
              "        buttonEl.style.display =\n",
              "          google.colab.kernel.accessAllowed ? 'block' : 'none';\n",
              "\n",
              "        async function convertToInteractive(key) {\n",
              "          const element = document.querySelector('#df-1e99f3d2-7738-481a-b593-95ef85cbeb87');\n",
              "          const dataTable =\n",
              "            await google.colab.kernel.invokeFunction('convertToInteractive',\n",
              "                                                     [key], {});\n",
              "          if (!dataTable) return;\n",
              "\n",
              "          const docLinkHtml = 'Like what you see? Visit the ' +\n",
              "            '<a target=\"_blank\" href=https://colab.research.google.com/notebooks/data_table.ipynb>data table notebook</a>'\n",
              "            + ' to learn more about interactive tables.';\n",
              "          element.innerHTML = '';\n",
              "          dataTable['output_type'] = 'display_data';\n",
              "          await google.colab.output.renderOutput(dataTable, element);\n",
              "          const docLink = document.createElement('div');\n",
              "          docLink.innerHTML = docLinkHtml;\n",
              "          element.appendChild(docLink);\n",
              "        }\n",
              "      </script>\n",
              "    </div>\n",
              "  </div>\n",
              "  "
            ]
          },
          "metadata": {},
          "execution_count": 261
        }
      ]
    },
    {
      "cell_type": "markdown",
      "source": [
        "**Observaciones:**\n",
        "\n",
        "**df_train**\n",
        "*   Se observa que el dataset de entrenamiento cuenta con ***2100 registros***.\n",
        "*   Además, se puede afirmar que todos las variables son **númericas**. Las columnas features, **decimales** y la columna target, **enteros**.\n",
        "*    Como primera aproximación, previa confirmación posterior, se puede decir que el dataset no cuenta con valores nulos.\n",
        "\n",
        "**df_test**\n",
        "*   Se observa que el dataset de testeo cuenta con ***900 registros***.\n",
        "*   Además, se puede afirmar que todos los registros son **números decimales**.\n",
        "*   Como primera aproximación (previa confirmación posterior) se puede decir que el dataset **no cuenta con valores nulos**.\n"
      ],
      "metadata": {
        "id": "UZCF6rLoklYi"
      }
    },
    {
      "cell_type": "markdown",
      "source": [
        "### 1.3 Análisis de valores perdidos o nulos"
      ],
      "metadata": {
        "id": "vGiowxrFAISz"
      }
    },
    {
      "cell_type": "code",
      "source": [
        "#Se buscan valores nulos o valores perdidos en df_train, se suman los totales de los mismos de cada variable y se los ordena.\n",
        "df_train.isnull().sum().sort_values(ascending=False)"
      ],
      "metadata": {
        "colab": {
          "base_uri": "https://localhost:8080/"
        },
        "id": "g4130l4SuQv-",
        "outputId": "d18966df-c62d-470c-8711-6c34a68d94c8"
      },
      "execution_count": 262,
      "outputs": [
        {
          "output_type": "execute_result",
          "data": {
            "text/plain": [
              "medicion_s1      0\n",
              "medicion_s2      0\n",
              "medicion_s3      0\n",
              "medicion_s4      0\n",
              "medicion_s5      0\n",
              "medicion_s6      0\n",
              "tipo_erupcion    0\n",
              "dtype: int64"
            ]
          },
          "metadata": {},
          "execution_count": 262
        }
      ]
    },
    {
      "cell_type": "code",
      "source": [
        "#Se buscan valores nulos o valores perdidos en df_test, se suman los totales de los mismos de cada variable y se los ordena.\n",
        "df_test.isnull().sum().sort_values(ascending=False)"
      ],
      "metadata": {
        "colab": {
          "base_uri": "https://localhost:8080/"
        },
        "id": "QzNyOeGOg-4w",
        "outputId": "13fdb6f8-302e-4f40-c8d1-1da00426c769"
      },
      "execution_count": 263,
      "outputs": [
        {
          "output_type": "execute_result",
          "data": {
            "text/plain": [
              "medicion_s1    0\n",
              "medicion_s2    0\n",
              "medicion_s3    0\n",
              "medicion_s4    0\n",
              "medicion_s5    0\n",
              "medicion_s6    0\n",
              "dtype: int64"
            ]
          },
          "metadata": {},
          "execution_count": 263
        }
      ]
    },
    {
      "cell_type": "markdown",
      "source": [
        "**Conclusiones:** Se comfirma primera observación respecto a que los dataset no cuenta con valores nulos o perdidos.\n"
      ],
      "metadata": {
        "id": "uvByXBYBkPIc"
      }
    },
    {
      "cell_type": "markdown",
      "source": [
        "###1.4 Análisis exploratorio de variables numéricas (EDA)"
      ],
      "metadata": {
        "id": "KsYi2SgnjksL"
      }
    },
    {
      "cell_type": "markdown",
      "source": [
        "Se crea una funcion escalable, para poder analizar con datos estadisticos las variables numéricas que contienen los datasets."
      ],
      "metadata": {
        "id": "UzcDOzHRvT-T"
      }
    },
    {
      "cell_type": "code",
      "source": [
        "def ft_estadisticos(num):\n",
        "  #Se calcula describe, que devuelve caracteristicas descriptivas\n",
        "  estadisticos = num.describe().T\n",
        "  #Se añade la mediana\n",
        "  estadisticos['median'] = num.median()\n",
        "  #Se reordenan las columnas para que la mediana esté al lado de la media\n",
        "  estadisticos = estadisticos.iloc[:,[0,1,8,2,3,4,5,6,7]]\n",
        "  #Se revuelven resultados\n",
        "  return(estadisticos)"
      ],
      "metadata": {
        "id": "CbiMrru3jry1"
      },
      "execution_count": 264,
      "outputs": []
    },
    {
      "cell_type": "code",
      "source": [
        "#Datos estadísticos del dataset df_train\n",
        "ft_estadisticos(df_train.select_dtypes('number'))"
      ],
      "metadata": {
        "colab": {
          "base_uri": "https://localhost:8080/",
          "height": 0
        },
        "id": "V-vHc4r6605W",
        "outputId": "2c061c9c-b39f-4e30-800f-ca5c14834476"
      },
      "execution_count": 265,
      "outputs": [
        {
          "output_type": "execute_result",
          "data": {
            "text/plain": [
              "                count      mean    median       std       min       25%  \\\n",
              "medicion_s1    2100.0 -0.204656 -0.443868  1.543613 -6.683655 -1.171340   \n",
              "medicion_s2    2100.0  0.199249  0.320507  1.614024 -5.383371 -0.877386   \n",
              "medicion_s3    2100.0 -0.378140 -0.439745  1.450548 -6.147055 -1.365990   \n",
              "medicion_s4    2100.0 -0.206425 -0.176504  1.442225 -5.653594 -1.259403   \n",
              "medicion_s5    2100.0 -0.186419 -0.195751  1.501573 -5.912521 -1.211685   \n",
              "medicion_s6    2100.0 -0.433229 -0.406754  1.188791 -4.433189 -1.131944   \n",
              "tipo_erupcion  2100.0  1.980476  2.000000  1.410537  0.000000  1.000000   \n",
              "\n",
              "                    50%       75%       max  \n",
              "medicion_s1   -0.443868  0.890023  4.565547  \n",
              "medicion_s2    0.320507  1.321430  6.700133  \n",
              "medicion_s3   -0.439745  0.662898  4.157518  \n",
              "medicion_s4   -0.176504  0.866879  4.371912  \n",
              "medicion_s5   -0.195751  0.851843  5.068783  \n",
              "medicion_s6   -0.406754  0.348593  4.016324  \n",
              "tipo_erupcion  2.000000  3.000000  4.000000  "
            ],
            "text/html": [
              "\n",
              "  <div id=\"df-a826da70-cdc0-44de-906d-b12a3236a4ca\">\n",
              "    <div class=\"colab-df-container\">\n",
              "      <div>\n",
              "<style scoped>\n",
              "    .dataframe tbody tr th:only-of-type {\n",
              "        vertical-align: middle;\n",
              "    }\n",
              "\n",
              "    .dataframe tbody tr th {\n",
              "        vertical-align: top;\n",
              "    }\n",
              "\n",
              "    .dataframe thead th {\n",
              "        text-align: right;\n",
              "    }\n",
              "</style>\n",
              "<table border=\"1\" class=\"dataframe\">\n",
              "  <thead>\n",
              "    <tr style=\"text-align: right;\">\n",
              "      <th></th>\n",
              "      <th>count</th>\n",
              "      <th>mean</th>\n",
              "      <th>median</th>\n",
              "      <th>std</th>\n",
              "      <th>min</th>\n",
              "      <th>25%</th>\n",
              "      <th>50%</th>\n",
              "      <th>75%</th>\n",
              "      <th>max</th>\n",
              "    </tr>\n",
              "  </thead>\n",
              "  <tbody>\n",
              "    <tr>\n",
              "      <th>medicion_s1</th>\n",
              "      <td>2100.0</td>\n",
              "      <td>-0.204656</td>\n",
              "      <td>-0.443868</td>\n",
              "      <td>1.543613</td>\n",
              "      <td>-6.683655</td>\n",
              "      <td>-1.171340</td>\n",
              "      <td>-0.443868</td>\n",
              "      <td>0.890023</td>\n",
              "      <td>4.565547</td>\n",
              "    </tr>\n",
              "    <tr>\n",
              "      <th>medicion_s2</th>\n",
              "      <td>2100.0</td>\n",
              "      <td>0.199249</td>\n",
              "      <td>0.320507</td>\n",
              "      <td>1.614024</td>\n",
              "      <td>-5.383371</td>\n",
              "      <td>-0.877386</td>\n",
              "      <td>0.320507</td>\n",
              "      <td>1.321430</td>\n",
              "      <td>6.700133</td>\n",
              "    </tr>\n",
              "    <tr>\n",
              "      <th>medicion_s3</th>\n",
              "      <td>2100.0</td>\n",
              "      <td>-0.378140</td>\n",
              "      <td>-0.439745</td>\n",
              "      <td>1.450548</td>\n",
              "      <td>-6.147055</td>\n",
              "      <td>-1.365990</td>\n",
              "      <td>-0.439745</td>\n",
              "      <td>0.662898</td>\n",
              "      <td>4.157518</td>\n",
              "    </tr>\n",
              "    <tr>\n",
              "      <th>medicion_s4</th>\n",
              "      <td>2100.0</td>\n",
              "      <td>-0.206425</td>\n",
              "      <td>-0.176504</td>\n",
              "      <td>1.442225</td>\n",
              "      <td>-5.653594</td>\n",
              "      <td>-1.259403</td>\n",
              "      <td>-0.176504</td>\n",
              "      <td>0.866879</td>\n",
              "      <td>4.371912</td>\n",
              "    </tr>\n",
              "    <tr>\n",
              "      <th>medicion_s5</th>\n",
              "      <td>2100.0</td>\n",
              "      <td>-0.186419</td>\n",
              "      <td>-0.195751</td>\n",
              "      <td>1.501573</td>\n",
              "      <td>-5.912521</td>\n",
              "      <td>-1.211685</td>\n",
              "      <td>-0.195751</td>\n",
              "      <td>0.851843</td>\n",
              "      <td>5.068783</td>\n",
              "    </tr>\n",
              "    <tr>\n",
              "      <th>medicion_s6</th>\n",
              "      <td>2100.0</td>\n",
              "      <td>-0.433229</td>\n",
              "      <td>-0.406754</td>\n",
              "      <td>1.188791</td>\n",
              "      <td>-4.433189</td>\n",
              "      <td>-1.131944</td>\n",
              "      <td>-0.406754</td>\n",
              "      <td>0.348593</td>\n",
              "      <td>4.016324</td>\n",
              "    </tr>\n",
              "    <tr>\n",
              "      <th>tipo_erupcion</th>\n",
              "      <td>2100.0</td>\n",
              "      <td>1.980476</td>\n",
              "      <td>2.000000</td>\n",
              "      <td>1.410537</td>\n",
              "      <td>0.000000</td>\n",
              "      <td>1.000000</td>\n",
              "      <td>2.000000</td>\n",
              "      <td>3.000000</td>\n",
              "      <td>4.000000</td>\n",
              "    </tr>\n",
              "  </tbody>\n",
              "</table>\n",
              "</div>\n",
              "      <button class=\"colab-df-convert\" onclick=\"convertToInteractive('df-a826da70-cdc0-44de-906d-b12a3236a4ca')\"\n",
              "              title=\"Convert this dataframe to an interactive table.\"\n",
              "              style=\"display:none;\">\n",
              "        \n",
              "  <svg xmlns=\"http://www.w3.org/2000/svg\" height=\"24px\"viewBox=\"0 0 24 24\"\n",
              "       width=\"24px\">\n",
              "    <path d=\"M0 0h24v24H0V0z\" fill=\"none\"/>\n",
              "    <path d=\"M18.56 5.44l.94 2.06.94-2.06 2.06-.94-2.06-.94-.94-2.06-.94 2.06-2.06.94zm-11 1L8.5 8.5l.94-2.06 2.06-.94-2.06-.94L8.5 2.5l-.94 2.06-2.06.94zm10 10l.94 2.06.94-2.06 2.06-.94-2.06-.94-.94-2.06-.94 2.06-2.06.94z\"/><path d=\"M17.41 7.96l-1.37-1.37c-.4-.4-.92-.59-1.43-.59-.52 0-1.04.2-1.43.59L10.3 9.45l-7.72 7.72c-.78.78-.78 2.05 0 2.83L4 21.41c.39.39.9.59 1.41.59.51 0 1.02-.2 1.41-.59l7.78-7.78 2.81-2.81c.8-.78.8-2.07 0-2.86zM5.41 20L4 18.59l7.72-7.72 1.47 1.35L5.41 20z\"/>\n",
              "  </svg>\n",
              "      </button>\n",
              "      \n",
              "  <style>\n",
              "    .colab-df-container {\n",
              "      display:flex;\n",
              "      flex-wrap:wrap;\n",
              "      gap: 12px;\n",
              "    }\n",
              "\n",
              "    .colab-df-convert {\n",
              "      background-color: #E8F0FE;\n",
              "      border: none;\n",
              "      border-radius: 50%;\n",
              "      cursor: pointer;\n",
              "      display: none;\n",
              "      fill: #1967D2;\n",
              "      height: 32px;\n",
              "      padding: 0 0 0 0;\n",
              "      width: 32px;\n",
              "    }\n",
              "\n",
              "    .colab-df-convert:hover {\n",
              "      background-color: #E2EBFA;\n",
              "      box-shadow: 0px 1px 2px rgba(60, 64, 67, 0.3), 0px 1px 3px 1px rgba(60, 64, 67, 0.15);\n",
              "      fill: #174EA6;\n",
              "    }\n",
              "\n",
              "    [theme=dark] .colab-df-convert {\n",
              "      background-color: #3B4455;\n",
              "      fill: #D2E3FC;\n",
              "    }\n",
              "\n",
              "    [theme=dark] .colab-df-convert:hover {\n",
              "      background-color: #434B5C;\n",
              "      box-shadow: 0px 1px 3px 1px rgba(0, 0, 0, 0.15);\n",
              "      filter: drop-shadow(0px 1px 2px rgba(0, 0, 0, 0.3));\n",
              "      fill: #FFFFFF;\n",
              "    }\n",
              "  </style>\n",
              "\n",
              "      <script>\n",
              "        const buttonEl =\n",
              "          document.querySelector('#df-a826da70-cdc0-44de-906d-b12a3236a4ca button.colab-df-convert');\n",
              "        buttonEl.style.display =\n",
              "          google.colab.kernel.accessAllowed ? 'block' : 'none';\n",
              "\n",
              "        async function convertToInteractive(key) {\n",
              "          const element = document.querySelector('#df-a826da70-cdc0-44de-906d-b12a3236a4ca');\n",
              "          const dataTable =\n",
              "            await google.colab.kernel.invokeFunction('convertToInteractive',\n",
              "                                                     [key], {});\n",
              "          if (!dataTable) return;\n",
              "\n",
              "          const docLinkHtml = 'Like what you see? Visit the ' +\n",
              "            '<a target=\"_blank\" href=https://colab.research.google.com/notebooks/data_table.ipynb>data table notebook</a>'\n",
              "            + ' to learn more about interactive tables.';\n",
              "          element.innerHTML = '';\n",
              "          dataTable['output_type'] = 'display_data';\n",
              "          await google.colab.output.renderOutput(dataTable, element);\n",
              "          const docLink = document.createElement('div');\n",
              "          docLink.innerHTML = docLinkHtml;\n",
              "          element.appendChild(docLink);\n",
              "        }\n",
              "      </script>\n",
              "    </div>\n",
              "  </div>\n",
              "  "
            ]
          },
          "metadata": {},
          "execution_count": 265
        }
      ]
    },
    {
      "cell_type": "code",
      "source": [
        "#Datos estadísticos del dataset df_test\n",
        "ft_estadisticos(df_test.select_dtypes('number'))"
      ],
      "metadata": {
        "id": "O2IayJupwi7u",
        "colab": {
          "base_uri": "https://localhost:8080/",
          "height": 0
        },
        "outputId": "6e95d850-c9e9-4f1f-cbea-ccecb6cd8c7f"
      },
      "execution_count": 266,
      "outputs": [
        {
          "output_type": "execute_result",
          "data": {
            "text/plain": [
              "             count      mean    median       std       min       25%  \\\n",
              "medicion_s1  900.0 -0.170339 -0.386297  1.485402 -5.084203 -1.098759   \n",
              "medicion_s2  900.0  0.135481  0.341427  1.547202 -4.292548 -0.934171   \n",
              "medicion_s3  900.0 -0.447035 -0.464239  1.394437 -4.628992 -1.460497   \n",
              "medicion_s4  900.0 -0.201708 -0.177710  1.487102 -6.732089 -1.163163   \n",
              "medicion_s5  900.0 -0.263349 -0.233699  1.450823 -5.196997 -1.182667   \n",
              "medicion_s6  900.0 -0.445490 -0.410182  1.215000 -4.823971 -1.152891   \n",
              "\n",
              "                  50%       75%       max  \n",
              "medicion_s1 -0.386297  0.881170  4.636012  \n",
              "medicion_s2  0.341427  1.246296  4.612113  \n",
              "medicion_s3 -0.464239  0.626893  3.299946  \n",
              "medicion_s4 -0.177710  0.870332  5.996929  \n",
              "medicion_s5 -0.233699  0.679282  3.917118  \n",
              "medicion_s6 -0.410182  0.399597  5.357953  "
            ],
            "text/html": [
              "\n",
              "  <div id=\"df-b0e67545-aaf6-4239-8d9c-29cd37150ee5\">\n",
              "    <div class=\"colab-df-container\">\n",
              "      <div>\n",
              "<style scoped>\n",
              "    .dataframe tbody tr th:only-of-type {\n",
              "        vertical-align: middle;\n",
              "    }\n",
              "\n",
              "    .dataframe tbody tr th {\n",
              "        vertical-align: top;\n",
              "    }\n",
              "\n",
              "    .dataframe thead th {\n",
              "        text-align: right;\n",
              "    }\n",
              "</style>\n",
              "<table border=\"1\" class=\"dataframe\">\n",
              "  <thead>\n",
              "    <tr style=\"text-align: right;\">\n",
              "      <th></th>\n",
              "      <th>count</th>\n",
              "      <th>mean</th>\n",
              "      <th>median</th>\n",
              "      <th>std</th>\n",
              "      <th>min</th>\n",
              "      <th>25%</th>\n",
              "      <th>50%</th>\n",
              "      <th>75%</th>\n",
              "      <th>max</th>\n",
              "    </tr>\n",
              "  </thead>\n",
              "  <tbody>\n",
              "    <tr>\n",
              "      <th>medicion_s1</th>\n",
              "      <td>900.0</td>\n",
              "      <td>-0.170339</td>\n",
              "      <td>-0.386297</td>\n",
              "      <td>1.485402</td>\n",
              "      <td>-5.084203</td>\n",
              "      <td>-1.098759</td>\n",
              "      <td>-0.386297</td>\n",
              "      <td>0.881170</td>\n",
              "      <td>4.636012</td>\n",
              "    </tr>\n",
              "    <tr>\n",
              "      <th>medicion_s2</th>\n",
              "      <td>900.0</td>\n",
              "      <td>0.135481</td>\n",
              "      <td>0.341427</td>\n",
              "      <td>1.547202</td>\n",
              "      <td>-4.292548</td>\n",
              "      <td>-0.934171</td>\n",
              "      <td>0.341427</td>\n",
              "      <td>1.246296</td>\n",
              "      <td>4.612113</td>\n",
              "    </tr>\n",
              "    <tr>\n",
              "      <th>medicion_s3</th>\n",
              "      <td>900.0</td>\n",
              "      <td>-0.447035</td>\n",
              "      <td>-0.464239</td>\n",
              "      <td>1.394437</td>\n",
              "      <td>-4.628992</td>\n",
              "      <td>-1.460497</td>\n",
              "      <td>-0.464239</td>\n",
              "      <td>0.626893</td>\n",
              "      <td>3.299946</td>\n",
              "    </tr>\n",
              "    <tr>\n",
              "      <th>medicion_s4</th>\n",
              "      <td>900.0</td>\n",
              "      <td>-0.201708</td>\n",
              "      <td>-0.177710</td>\n",
              "      <td>1.487102</td>\n",
              "      <td>-6.732089</td>\n",
              "      <td>-1.163163</td>\n",
              "      <td>-0.177710</td>\n",
              "      <td>0.870332</td>\n",
              "      <td>5.996929</td>\n",
              "    </tr>\n",
              "    <tr>\n",
              "      <th>medicion_s5</th>\n",
              "      <td>900.0</td>\n",
              "      <td>-0.263349</td>\n",
              "      <td>-0.233699</td>\n",
              "      <td>1.450823</td>\n",
              "      <td>-5.196997</td>\n",
              "      <td>-1.182667</td>\n",
              "      <td>-0.233699</td>\n",
              "      <td>0.679282</td>\n",
              "      <td>3.917118</td>\n",
              "    </tr>\n",
              "    <tr>\n",
              "      <th>medicion_s6</th>\n",
              "      <td>900.0</td>\n",
              "      <td>-0.445490</td>\n",
              "      <td>-0.410182</td>\n",
              "      <td>1.215000</td>\n",
              "      <td>-4.823971</td>\n",
              "      <td>-1.152891</td>\n",
              "      <td>-0.410182</td>\n",
              "      <td>0.399597</td>\n",
              "      <td>5.357953</td>\n",
              "    </tr>\n",
              "  </tbody>\n",
              "</table>\n",
              "</div>\n",
              "      <button class=\"colab-df-convert\" onclick=\"convertToInteractive('df-b0e67545-aaf6-4239-8d9c-29cd37150ee5')\"\n",
              "              title=\"Convert this dataframe to an interactive table.\"\n",
              "              style=\"display:none;\">\n",
              "        \n",
              "  <svg xmlns=\"http://www.w3.org/2000/svg\" height=\"24px\"viewBox=\"0 0 24 24\"\n",
              "       width=\"24px\">\n",
              "    <path d=\"M0 0h24v24H0V0z\" fill=\"none\"/>\n",
              "    <path d=\"M18.56 5.44l.94 2.06.94-2.06 2.06-.94-2.06-.94-.94-2.06-.94 2.06-2.06.94zm-11 1L8.5 8.5l.94-2.06 2.06-.94-2.06-.94L8.5 2.5l-.94 2.06-2.06.94zm10 10l.94 2.06.94-2.06 2.06-.94-2.06-.94-.94-2.06-.94 2.06-2.06.94z\"/><path d=\"M17.41 7.96l-1.37-1.37c-.4-.4-.92-.59-1.43-.59-.52 0-1.04.2-1.43.59L10.3 9.45l-7.72 7.72c-.78.78-.78 2.05 0 2.83L4 21.41c.39.39.9.59 1.41.59.51 0 1.02-.2 1.41-.59l7.78-7.78 2.81-2.81c.8-.78.8-2.07 0-2.86zM5.41 20L4 18.59l7.72-7.72 1.47 1.35L5.41 20z\"/>\n",
              "  </svg>\n",
              "      </button>\n",
              "      \n",
              "  <style>\n",
              "    .colab-df-container {\n",
              "      display:flex;\n",
              "      flex-wrap:wrap;\n",
              "      gap: 12px;\n",
              "    }\n",
              "\n",
              "    .colab-df-convert {\n",
              "      background-color: #E8F0FE;\n",
              "      border: none;\n",
              "      border-radius: 50%;\n",
              "      cursor: pointer;\n",
              "      display: none;\n",
              "      fill: #1967D2;\n",
              "      height: 32px;\n",
              "      padding: 0 0 0 0;\n",
              "      width: 32px;\n",
              "    }\n",
              "\n",
              "    .colab-df-convert:hover {\n",
              "      background-color: #E2EBFA;\n",
              "      box-shadow: 0px 1px 2px rgba(60, 64, 67, 0.3), 0px 1px 3px 1px rgba(60, 64, 67, 0.15);\n",
              "      fill: #174EA6;\n",
              "    }\n",
              "\n",
              "    [theme=dark] .colab-df-convert {\n",
              "      background-color: #3B4455;\n",
              "      fill: #D2E3FC;\n",
              "    }\n",
              "\n",
              "    [theme=dark] .colab-df-convert:hover {\n",
              "      background-color: #434B5C;\n",
              "      box-shadow: 0px 1px 3px 1px rgba(0, 0, 0, 0.15);\n",
              "      filter: drop-shadow(0px 1px 2px rgba(0, 0, 0, 0.3));\n",
              "      fill: #FFFFFF;\n",
              "    }\n",
              "  </style>\n",
              "\n",
              "      <script>\n",
              "        const buttonEl =\n",
              "          document.querySelector('#df-b0e67545-aaf6-4239-8d9c-29cd37150ee5 button.colab-df-convert');\n",
              "        buttonEl.style.display =\n",
              "          google.colab.kernel.accessAllowed ? 'block' : 'none';\n",
              "\n",
              "        async function convertToInteractive(key) {\n",
              "          const element = document.querySelector('#df-b0e67545-aaf6-4239-8d9c-29cd37150ee5');\n",
              "          const dataTable =\n",
              "            await google.colab.kernel.invokeFunction('convertToInteractive',\n",
              "                                                     [key], {});\n",
              "          if (!dataTable) return;\n",
              "\n",
              "          const docLinkHtml = 'Like what you see? Visit the ' +\n",
              "            '<a target=\"_blank\" href=https://colab.research.google.com/notebooks/data_table.ipynb>data table notebook</a>'\n",
              "            + ' to learn more about interactive tables.';\n",
              "          element.innerHTML = '';\n",
              "          dataTable['output_type'] = 'display_data';\n",
              "          await google.colab.output.renderOutput(dataTable, element);\n",
              "          const docLink = document.createElement('div');\n",
              "          docLink.innerHTML = docLinkHtml;\n",
              "          element.appendChild(docLink);\n",
              "        }\n",
              "      </script>\n",
              "    </div>\n",
              "  </div>\n",
              "  "
            ]
          },
          "metadata": {},
          "execution_count": 266
        }
      ]
    },
    {
      "cell_type": "markdown",
      "source": [
        "### 1.5 Visualización de variables numéricas"
      ],
      "metadata": {
        "id": "TynG0BrdxPlg"
      }
    },
    {
      "cell_type": "code",
      "source": [
        "#Visualización de medicion_s1\n",
        "sns.displot(df_train['medicion_s1'], kde=False, color= 'r')"
      ],
      "metadata": {
        "colab": {
          "base_uri": "https://localhost:8080/",
          "height": 0
        },
        "id": "WUkJ5Hv6xbIx",
        "outputId": "f46d3272-84e0-4948-fc1b-1ca6b7e0284d"
      },
      "execution_count": 267,
      "outputs": [
        {
          "output_type": "execute_result",
          "data": {
            "text/plain": [
              "<seaborn.axisgrid.FacetGrid at 0x7fc50f263b90>"
            ]
          },
          "metadata": {},
          "execution_count": 267
        },
        {
          "output_type": "display_data",
          "data": {
            "text/plain": [
              "<Figure size 360x360 with 1 Axes>"
            ],
            "image/png": "[encoded data removed]"
          },
          "metadata": {
            "needs_background": "light"
          }
        }
      ]
    },
    {
      "cell_type": "code",
      "source": [
        "#Visualización de medicion_s2\n",
        "sns.displot(df_train['medicion_s2'], kde=False, color= 'b')"
      ],
      "metadata": {
        "colab": {
          "base_uri": "https://localhost:8080/",
          "height": 0
        },
        "outputId": "65a87155-ff36-463a-b718-4e1f607f2200",
        "id": "fZQzLMYAx_pp"
      },
      "execution_count": 268,
      "outputs": [
        {
          "output_type": "execute_result",
          "data": {
            "text/plain": [
              "<seaborn.axisgrid.FacetGrid at 0x7fc50f29ff90>"
            ]
          },
          "metadata": {},
          "execution_count": 268
        },
        {
          "output_type": "display_data",
          "data": {
            "text/plain": [
              "<Figure size 360x360 with 1 Axes>"
            ],
            "image/png": "[encoded data removed]"
          },
          "metadata": {
            "needs_background": "light"
          }
        }
      ]
    },
    {
      "cell_type": "code",
      "source": [
        "#Visualización de medicion_s3\n",
        "sns.displot(df_train['medicion_s3'], kde=False, color= 'g')"
      ],
      "metadata": {
        "colab": {
          "base_uri": "https://localhost:8080/",
          "height": 0
        },
        "outputId": "ca091373-0ccf-4ea8-a258-3c1e3701e5e8",
        "id": "BccBgCzbyD0k"
      },
      "execution_count": 269,
      "outputs": [
        {
          "output_type": "execute_result",
          "data": {
            "text/plain": [
              "<seaborn.axisgrid.FacetGrid at 0x7fc50f0ace90>"
            ]
          },
          "metadata": {},
          "execution_count": 269
        },
        {
          "output_type": "display_data",
          "data": {
            "text/plain": [
              "<Figure size 360x360 with 1 Axes>"
            ],
            "image/png": "[encoded data removed]"
          },
          "metadata": {
            "needs_background": "light"
          }
        }
      ]
    },
    {
      "cell_type": "code",
      "source": [
        "#Visualización de medicion_s4\n",
        "sns.displot(df_train['medicion_s4'], kde=False, color= 'y')"
      ],
      "metadata": {
        "colab": {
          "base_uri": "https://localhost:8080/",
          "height": 0
        },
        "outputId": "f50ec63f-0b81-461e-c761-0bfe1758f2f2",
        "id": "SPhHU-LsyMWk"
      },
      "execution_count": 270,
      "outputs": [
        {
          "output_type": "execute_result",
          "data": {
            "text/plain": [
              "<seaborn.axisgrid.FacetGrid at 0x7fc510706890>"
            ]
          },
          "metadata": {},
          "execution_count": 270
        },
        {
          "output_type": "display_data",
          "data": {
            "text/plain": [
              "<Figure size 360x360 with 1 Axes>"
            ],
            "image/png": "[encoded data removed]"
          },
          "metadata": {
            "needs_background": "light"
          }
        }
      ]
    },
    {
      "cell_type": "code",
      "source": [
        "#Visualización de medicion_s5\n",
        "sns.displot(df_train['medicion_s5'], kde=False, color= 'k')"
      ],
      "metadata": {
        "colab": {
          "base_uri": "https://localhost:8080/",
          "height": 0
        },
        "outputId": "16b54f91-7a21-4a0e-d304-7c93bfa84f19",
        "id": "ZDwSVeYAyWyY"
      },
      "execution_count": 271,
      "outputs": [
        {
          "output_type": "execute_result",
          "data": {
            "text/plain": [
              "<seaborn.axisgrid.FacetGrid at 0x7fc50f3b9f50>"
            ]
          },
          "metadata": {},
          "execution_count": 271
        },
        {
          "output_type": "display_data",
          "data": {
            "text/plain": [
              "<Figure size 360x360 with 1 Axes>"
            ],
            "image/png": "[encoded data removed]"
          },
          "metadata": {
            "needs_background": "light"
          }
        }
      ]
    },
    {
      "cell_type": "code",
      "source": [
        "#Visualización de medicion_s6\n",
        "sns.displot(df_train['medicion_s1'], kde=False, color= 'c')"
      ],
      "metadata": {
        "colab": {
          "base_uri": "https://localhost:8080/",
          "height": 0
        },
        "outputId": "3c0ce115-59c2-469b-f0f5-2cff32323165",
        "id": "fDsPvrmDygTA"
      },
      "execution_count": 272,
      "outputs": [
        {
          "output_type": "execute_result",
          "data": {
            "text/plain": [
              "<seaborn.axisgrid.FacetGrid at 0x7fc50f607510>"
            ]
          },
          "metadata": {},
          "execution_count": 272
        },
        {
          "output_type": "display_data",
          "data": {
            "text/plain": [
              "<Figure size 360x360 with 1 Axes>"
            ],
            "image/png": "[encoded data removed]"
          },
          "metadata": {
            "needs_background": "light"
          }
        }
      ]
    },
    {
      "cell_type": "code",
      "source": [
        "#Visualización de tipo_erupcion\n",
        "sns.displot(df_train['tipo_erupcion'], kde=False, color= 'orange')"
      ],
      "metadata": {
        "colab": {
          "base_uri": "https://localhost:8080/",
          "height": 0
        },
        "outputId": "98d04e60-0fae-4bf8-9810-69f92929d2b4",
        "id": "vIVVzg8vyowY"
      },
      "execution_count": 273,
      "outputs": [
        {
          "output_type": "execute_result",
          "data": {
            "text/plain": [
              "<seaborn.axisgrid.FacetGrid at 0x7fc50f70e090>"
            ]
          },
          "metadata": {},
          "execution_count": 273
        },
        {
          "output_type": "display_data",
          "data": {
            "text/plain": [
              "<Figure size 360x360 with 1 Axes>"
            ],
            "image/png": "[encoded data removed]"
          },
          "metadata": {
            "needs_background": "light"
          }
        }
      ]
    },
    {
      "cell_type": "code",
      "source": [
        "#Visualización gráfico de caja y bigotes: tipo_erupcion vs medicion_s1\n",
        "temp = df_train.boxplot(column=\"medicion_s1\", by=\"tipo_erupcion\", figsize=(12,6), color='r')\n",
        "plt.xlabel(\"Tipo de erupcion\")\n",
        "plt.show()"
      ],
      "metadata": {
        "colab": {
          "base_uri": "https://localhost:8080/",
          "height": 0
        },
        "id": "qqIL5EcBNSvj",
        "outputId": "a499c0ef-021e-43b4-eef9-3043a98f12b6"
      },
      "execution_count": 274,
      "outputs": [
        {
          "output_type": "display_data",
          "data": {
            "text/plain": [
              "<Figure size 864x432 with 1 Axes>"
            ],
            "image/png": "[encoded data removed]"
          },
          "metadata": {
            "needs_background": "light"
          }
        }
      ]
    },
    {
      "cell_type": "code",
      "source": [
        "#Visualización gráfico de caja y bigotes: tipo_erupcion vs medicion_s2\n",
        "temp = df_train.boxplot(column=\"medicion_s2\", by=\"tipo_erupcion\", figsize=(12,6), color='b')\n",
        "plt.xlabel(\"Tipo de erupcion\")\n",
        "plt.show()"
      ],
      "metadata": {
        "colab": {
          "base_uri": "https://localhost:8080/",
          "height": 0
        },
        "id": "VbK8r2b114t2",
        "outputId": "53def9d7-284a-427d-f48c-f869a42ce4bb"
      },
      "execution_count": 275,
      "outputs": [
        {
          "output_type": "display_data",
          "data": {
            "text/plain": [
              "<Figure size 864x432 with 1 Axes>"
            ],
            "image/png": "[encoded data removed]"
          },
          "metadata": {
            "needs_background": "light"
          }
        }
      ]
    },
    {
      "cell_type": "code",
      "source": [
        "#Visualización gráfico de caja y bigotes: tipo_erupcion vs medicion_s3\n",
        "temp = df_train.boxplot(column=\"medicion_s3\", by=\"tipo_erupcion\", figsize=(12,6), color='g')\n",
        "plt.xlabel(\"Tipo de erupcion\")\n",
        "plt.show()"
      ],
      "metadata": {
        "colab": {
          "base_uri": "https://localhost:8080/",
          "height": 0
        },
        "id": "cVfbc3ZB19ca",
        "outputId": "2f6af9dc-dcd8-43d8-9a2a-d5dc9e2765fa"
      },
      "execution_count": 276,
      "outputs": [
        {
          "output_type": "display_data",
          "data": {
            "text/plain": [
              "<Figure size 864x432 with 1 Axes>"
            ],
            "image/png": "[encoded data removed]"
          },
          "metadata": {
            "needs_background": "light"
          }
        }
      ]
    },
    {
      "cell_type": "code",
      "source": [
        "#Visualización gráfico de caja y bigotes: tipo_erupcion vs medicion_s4\n",
        "temp = df_train.boxplot(column=\"medicion_s4\", by=\"tipo_erupcion\", figsize=(12,6), color='y')\n",
        "plt.xlabel(\"Tipo de erupcion\")\n",
        "plt.show()"
      ],
      "metadata": {
        "colab": {
          "base_uri": "https://localhost:8080/",
          "height": 0
        },
        "id": "M4SQT0aX2Eah",
        "outputId": "2d6d5fe8-622b-4bda-863b-d0178b30d6ad"
      },
      "execution_count": 277,
      "outputs": [
        {
          "output_type": "display_data",
          "data": {
            "text/plain": [
              "<Figure size 864x432 with 1 Axes>"
            ],
            "image/png": "[encoded data removed]"
          },
          "metadata": {
            "needs_background": "light"
          }
        }
      ]
    },
    {
      "cell_type": "code",
      "source": [
        "#Visualización gráfico de caja y bigotes: tipo_erupcion vs medicion_s5\n",
        "temp = df_train.boxplot(column=\"medicion_s5\", by=\"tipo_erupcion\", figsize=(12,6), color='k')\n",
        "plt.xlabel(\"Tipo de erupcion\")\n",
        "plt.show()"
      ],
      "metadata": {
        "colab": {
          "base_uri": "https://localhost:8080/",
          "height": 0
        },
        "id": "F6HDDoox2Kpj",
        "outputId": "0c26cc38-5dc8-46c2-b1d5-0f838d00fed9"
      },
      "execution_count": 278,
      "outputs": [
        {
          "output_type": "display_data",
          "data": {
            "text/plain": [
              "<Figure size 864x432 with 1 Axes>"
            ],
            "image/png": "[encoded data removed]"
          },
          "metadata": {
            "needs_background": "light"
          }
        }
      ]
    },
    {
      "cell_type": "code",
      "source": [
        "#Visualización gráfico de caja y bigotes: tipo_erupcion vs medicion_s6\n",
        "temp = df_train.boxplot(column=\"medicion_s6\", by=\"tipo_erupcion\", figsize=(12,6), color='c')\n",
        "plt.xlabel(\"Tipo de erupcion\")\n",
        "plt.show()"
      ],
      "metadata": {
        "colab": {
          "base_uri": "https://localhost:8080/",
          "height": 0
        },
        "id": "N5ZYOYb52eo3",
        "outputId": "87d7a209-e846-46e6-b283-999b9c4c151f"
      },
      "execution_count": 279,
      "outputs": [
        {
          "output_type": "display_data",
          "data": {
            "text/plain": [
              "<Figure size 864x432 with 1 Axes>"
            ],
            "image/png": "[encoded data removed]"
          },
          "metadata": {
            "needs_background": "light"
          }
        }
      ]
    },
    {
      "cell_type": "markdown",
      "source": [
        "# **TAREA 2: MODELADO DEL ALGORITMO PREDICTIVO**"
      ],
      "metadata": {
        "id": "RZuHBMLH55o7"
      }
    },
    {
      "cell_type": "markdown",
      "source": [
        "### 2.1 Pre-procesamiento de datos"
      ],
      "metadata": {
        "id": "CsgJYuc36ue_"
      }
    },
    {
      "cell_type": "markdown",
      "source": [
        "Funcion escalabre de control de valores irregulares en columnas\n"
      ],
      "metadata": {
        "id": "2Pn7C7ic67p9"
      }
    },
    {
      "cell_type": "code",
      "source": [
        "for col in ['tipo_erupcion']:\n",
        "    print(f\"-----{col}-----\")\n",
        "    print(\"Valores únicos :\", df_train[col].unique())"
      ],
      "metadata": {
        "colab": {
          "base_uri": "https://localhost:8080/"
        },
        "id": "QS7vpWGc63Tf",
        "outputId": "bb4839f5-ab9a-4882-8da0-247f275fd980"
      },
      "execution_count": 280,
      "outputs": [
        {
          "output_type": "stream",
          "name": "stdout",
          "text": [
            "-----tipo_erupcion-----\n",
            "Valores únicos : [4 0 1 3 2]\n"
          ]
        }
      ]
    },
    {
      "cell_type": "markdown",
      "source": [
        "###2.2 Separación de variables: features (variables predictoras) y labels (variables target)"
      ],
      "metadata": {
        "id": "jj5vIHyC6w8m"
      }
    },
    {
      "cell_type": "code",
      "source": [
        "#Separación de variables:\n",
        "\n",
        "#Variables features (predictoras) = mediciones\n",
        "train_mediciones_features = df_train.drop(columns='tipo_erupcion')\n",
        "\n",
        "#Variable label (target) = tipo_erupcion\n",
        "train_tipo_erupcion_label = df_train['tipo_erupcion']"
      ],
      "metadata": {
        "id": "jcUxWE3f0rMh"
      },
      "execution_count": 281,
      "outputs": []
    },
    {
      "cell_type": "code",
      "source": [
        "#Visualización\n",
        "train_mediciones_features.head(6)\n"
      ],
      "metadata": {
        "colab": {
          "base_uri": "https://localhost:8080/",
          "height": 238
        },
        "id": "-SghOgwd-g-z",
        "outputId": "17ba34ed-c54e-428b-9e9c-b36f7fc41fe0"
      },
      "execution_count": 282,
      "outputs": [
        {
          "output_type": "execute_result",
          "data": {
            "text/plain": [
              "   medicion_s1  medicion_s2  medicion_s3  medicion_s4  medicion_s5  \\\n",
              "0     0.474335     0.881640    -2.050543    -1.251935    -1.035151   \n",
              "1    -1.034675     1.741801    -1.660629    -1.555989    -0.337553   \n",
              "2    -0.563221    -0.688381    -0.318415    -1.845172     0.352366   \n",
              "3    -1.268179     2.770688     1.054193     2.830389     0.395093   \n",
              "4    -1.216380    -0.391267    -2.898931    -0.913074    -2.171857   \n",
              "5    -0.318657     1.494771     1.016929    -0.406147     1.404118   \n",
              "\n",
              "   medicion_s6  \n",
              "0    -1.934367  \n",
              "1    -2.473838  \n",
              "2    -0.912928  \n",
              "3     0.677715  \n",
              "4    -2.367490  \n",
              "5    -0.079592  "
            ],
            "text/html": [
              "\n",
              "  <div id=\"df-33bc2c7e-af54-4a45-961c-e55d79f3accf\">\n",
              "    <div class=\"colab-df-container\">\n",
              "      <div>\n",
              "<style scoped>\n",
              "    .dataframe tbody tr th:only-of-type {\n",
              "        vertical-align: middle;\n",
              "    }\n",
              "\n",
              "    .dataframe tbody tr th {\n",
              "        vertical-align: top;\n",
              "    }\n",
              "\n",
              "    .dataframe thead th {\n",
              "        text-align: right;\n",
              "    }\n",
              "</style>\n",
              "<table border=\"1\" class=\"dataframe\">\n",
              "  <thead>\n",
              "    <tr style=\"text-align: right;\">\n",
              "      <th></th>\n",
              "      <th>medicion_s1</th>\n",
              "      <th>medicion_s2</th>\n",
              "      <th>medicion_s3</th>\n",
              "      <th>medicion_s4</th>\n",
              "      <th>medicion_s5</th>\n",
              "      <th>medicion_s6</th>\n",
              "    </tr>\n",
              "  </thead>\n",
              "  <tbody>\n",
              "    <tr>\n",
              "      <th>0</th>\n",
              "      <td>0.474335</td>\n",
              "      <td>0.881640</td>\n",
              "      <td>-2.050543</td>\n",
              "      <td>-1.251935</td>\n",
              "      <td>-1.035151</td>\n",
              "      <td>-1.934367</td>\n",
              "    </tr>\n",
              "    <tr>\n",
              "      <th>1</th>\n",
              "      <td>-1.034675</td>\n",
              "      <td>1.741801</td>\n",
              "      <td>-1.660629</td>\n",
              "      <td>-1.555989</td>\n",
              "      <td>-0.337553</td>\n",
              "      <td>-2.473838</td>\n",
              "    </tr>\n",
              "    <tr>\n",
              "      <th>2</th>\n",
              "      <td>-0.563221</td>\n",
              "      <td>-0.688381</td>\n",
              "      <td>-0.318415</td>\n",
              "      <td>-1.845172</td>\n",
              "      <td>0.352366</td>\n",
              "      <td>-0.912928</td>\n",
              "    </tr>\n",
              "    <tr>\n",
              "      <th>3</th>\n",
              "      <td>-1.268179</td>\n",
              "      <td>2.770688</td>\n",
              "      <td>1.054193</td>\n",
              "      <td>2.830389</td>\n",
              "      <td>0.395093</td>\n",
              "      <td>0.677715</td>\n",
              "    </tr>\n",
              "    <tr>\n",
              "      <th>4</th>\n",
              "      <td>-1.216380</td>\n",
              "      <td>-0.391267</td>\n",
              "      <td>-2.898931</td>\n",
              "      <td>-0.913074</td>\n",
              "      <td>-2.171857</td>\n",
              "      <td>-2.367490</td>\n",
              "    </tr>\n",
              "    <tr>\n",
              "      <th>5</th>\n",
              "      <td>-0.318657</td>\n",
              "      <td>1.494771</td>\n",
              "      <td>1.016929</td>\n",
              "      <td>-0.406147</td>\n",
              "      <td>1.404118</td>\n",
              "      <td>-0.079592</td>\n",
              "    </tr>\n",
              "  </tbody>\n",
              "</table>\n",
              "</div>\n",
              "      <button class=\"colab-df-convert\" onclick=\"convertToInteractive('df-33bc2c7e-af54-4a45-961c-e55d79f3accf')\"\n",
              "              title=\"Convert this dataframe to an interactive table.\"\n",
              "              style=\"display:none;\">\n",
              "        \n",
              "  <svg xmlns=\"http://www.w3.org/2000/svg\" height=\"24px\"viewBox=\"0 0 24 24\"\n",
              "       width=\"24px\">\n",
              "    <path d=\"M0 0h24v24H0V0z\" fill=\"none\"/>\n",
              "    <path d=\"M18.56 5.44l.94 2.06.94-2.06 2.06-.94-2.06-.94-.94-2.06-.94 2.06-2.06.94zm-11 1L8.5 8.5l.94-2.06 2.06-.94-2.06-.94L8.5 2.5l-.94 2.06-2.06.94zm10 10l.94 2.06.94-2.06 2.06-.94-2.06-.94-.94-2.06-.94 2.06-2.06.94z\"/><path d=\"M17.41 7.96l-1.37-1.37c-.4-.4-.92-.59-1.43-.59-.52 0-1.04.2-1.43.59L10.3 9.45l-7.72 7.72c-.78.78-.78 2.05 0 2.83L4 21.41c.39.39.9.59 1.41.59.51 0 1.02-.2 1.41-.59l7.78-7.78 2.81-2.81c.8-.78.8-2.07 0-2.86zM5.41 20L4 18.59l7.72-7.72 1.47 1.35L5.41 20z\"/>\n",
              "  </svg>\n",
              "      </button>\n",
              "      \n",
              "  <style>\n",
              "    .colab-df-container {\n",
              "      display:flex;\n",
              "      flex-wrap:wrap;\n",
              "      gap: 12px;\n",
              "    }\n",
              "\n",
              "    .colab-df-convert {\n",
              "      background-color: #E8F0FE;\n",
              "      border: none;\n",
              "      border-radius: 50%;\n",
              "      cursor: pointer;\n",
              "      display: none;\n",
              "      fill: #1967D2;\n",
              "      height: 32px;\n",
              "      padding: 0 0 0 0;\n",
              "      width: 32px;\n",
              "    }\n",
              "\n",
              "    .colab-df-convert:hover {\n",
              "      background-color: #E2EBFA;\n",
              "      box-shadow: 0px 1px 2px rgba(60, 64, 67, 0.3), 0px 1px 3px 1px rgba(60, 64, 67, 0.15);\n",
              "      fill: #174EA6;\n",
              "    }\n",
              "\n",
              "    [theme=dark] .colab-df-convert {\n",
              "      background-color: #3B4455;\n",
              "      fill: #D2E3FC;\n",
              "    }\n",
              "\n",
              "    [theme=dark] .colab-df-convert:hover {\n",
              "      background-color: #434B5C;\n",
              "      box-shadow: 0px 1px 3px 1px rgba(0, 0, 0, 0.15);\n",
              "      filter: drop-shadow(0px 1px 2px rgba(0, 0, 0, 0.3));\n",
              "      fill: #FFFFFF;\n",
              "    }\n",
              "  </style>\n",
              "\n",
              "      <script>\n",
              "        const buttonEl =\n",
              "          document.querySelector('#df-33bc2c7e-af54-4a45-961c-e55d79f3accf button.colab-df-convert');\n",
              "        buttonEl.style.display =\n",
              "          google.colab.kernel.accessAllowed ? 'block' : 'none';\n",
              "\n",
              "        async function convertToInteractive(key) {\n",
              "          const element = document.querySelector('#df-33bc2c7e-af54-4a45-961c-e55d79f3accf');\n",
              "          const dataTable =\n",
              "            await google.colab.kernel.invokeFunction('convertToInteractive',\n",
              "                                                     [key], {});\n",
              "          if (!dataTable) return;\n",
              "\n",
              "          const docLinkHtml = 'Like what you see? Visit the ' +\n",
              "            '<a target=\"_blank\" href=https://colab.research.google.com/notebooks/data_table.ipynb>data table notebook</a>'\n",
              "            + ' to learn more about interactive tables.';\n",
              "          element.innerHTML = '';\n",
              "          dataTable['output_type'] = 'display_data';\n",
              "          await google.colab.output.renderOutput(dataTable, element);\n",
              "          const docLink = document.createElement('div');\n",
              "          docLink.innerHTML = docLinkHtml;\n",
              "          element.appendChild(docLink);\n",
              "        }\n",
              "      </script>\n",
              "    </div>\n",
              "  </div>\n",
              "  "
            ]
          },
          "metadata": {},
          "execution_count": 282
        }
      ]
    },
    {
      "cell_type": "code",
      "source": [
        "train_tipo_erupcion_label.head(6)"
      ],
      "metadata": {
        "colab": {
          "base_uri": "https://localhost:8080/"
        },
        "id": "5-YZJkw8-1He",
        "outputId": "f7a0e6a3-ba93-4311-e551-235c78963238"
      },
      "execution_count": 283,
      "outputs": [
        {
          "output_type": "execute_result",
          "data": {
            "text/plain": [
              "0    4\n",
              "1    0\n",
              "2    1\n",
              "3    3\n",
              "4    0\n",
              "5    2\n",
              "Name: tipo_erupcion, dtype: int64"
            ]
          },
          "metadata": {},
          "execution_count": 283
        }
      ]
    },
    {
      "cell_type": "markdown",
      "source": [
        "### 2.3 Separación de los datos: conjunto entrenamiento (train) y conjunto validación (validation)"
      ],
      "metadata": {
        "id": "Mxsx3DMcAMQF"
      }
    },
    {
      "cell_type": "code",
      "source": [
        "#Separación de datos: entrenamiento (train) y validación (validate). 70% train 30% validate\n",
        "train_mediciones, validate_mediciones, train_tipo_erupcion, validate_tipo_erupcion = train_test_split(train_mediciones_features, train_tipo_erupcion_label, test_size=0.3, random_state=42)"
      ],
      "metadata": {
        "id": "ksHzBCwLAZW9"
      },
      "execution_count": 284,
      "outputs": []
    },
    {
      "cell_type": "code",
      "source": [
        "train_mediciones"
      ],
      "metadata": {
        "colab": {
          "base_uri": "https://localhost:8080/",
          "height": 0
        },
        "id": "6Y_yA_2z7wxa",
        "outputId": "8fa197b2-3c3e-48a2-ee76-40400a63262b"
      },
      "execution_count": 285,
      "outputs": [
        {
          "output_type": "execute_result",
          "data": {
            "text/plain": [
              "      medicion_s1  medicion_s2  medicion_s3  medicion_s4  medicion_s5  \\\n",
              "906      0.102474     1.160356    -0.316968     1.304684    -0.549226   \n",
              "199     -1.136200     1.811533    -1.950790    -0.483357    -1.019622   \n",
              "1302     3.632941    -3.290851     2.734505     0.938769     1.099058   \n",
              "1179    -0.863491     0.917876     0.954894    -0.351571     1.202882   \n",
              "1493     2.059814     0.982491    -2.185012     2.271797    -2.643187   \n",
              "...           ...          ...          ...          ...          ...   \n",
              "1638     0.424864    -1.297168    -0.244367    -0.007067    -0.522335   \n",
              "1095    -1.003740     0.388196    -2.317192    -2.607750    -0.779164   \n",
              "1130    -1.599621     3.417978     2.005670     1.239563     2.041648   \n",
              "1294     2.483045    -0.200839    -1.783446    -3.289138    -0.246033   \n",
              "860      2.137097    -1.701044    -1.135169    -2.575019    -0.337411   \n",
              "\n",
              "      medicion_s6  \n",
              "906      0.031494  \n",
              "199     -2.247141  \n",
              "1302     4.016324  \n",
              "1179    -0.061716  \n",
              "1493    -0.149169  \n",
              "...           ...  \n",
              "1638     0.348682  \n",
              "1095    -2.905001  \n",
              "1130     0.310542  \n",
              "1294    -1.781840  \n",
              "860     -0.717670  \n",
              "\n",
              "[1470 rows x 6 columns]"
            ],
            "text/html": [
              "\n",
              "  <div id=\"df-d9129795-c79c-4d02-9b6d-6ebaebf26996\">\n",
              "    <div class=\"colab-df-container\">\n",
              "      <div>\n",
              "<style scoped>\n",
              "    .dataframe tbody tr th:only-of-type {\n",
              "        vertical-align: middle;\n",
              "    }\n",
              "\n",
              "    .dataframe tbody tr th {\n",
              "        vertical-align: top;\n",
              "    }\n",
              "\n",
              "    .dataframe thead th {\n",
              "        text-align: right;\n",
              "    }\n",
              "</style>\n",
              "<table border=\"1\" class=\"dataframe\">\n",
              "  <thead>\n",
              "    <tr style=\"text-align: right;\">\n",
              "      <th></th>\n",
              "      <th>medicion_s1</th>\n",
              "      <th>medicion_s2</th>\n",
              "      <th>medicion_s3</th>\n",
              "      <th>medicion_s4</th>\n",
              "      <th>medicion_s5</th>\n",
              "      <th>medicion_s6</th>\n",
              "    </tr>\n",
              "  </thead>\n",
              "  <tbody>\n",
              "    <tr>\n",
              "      <th>906</th>\n",
              "      <td>0.102474</td>\n",
              "      <td>1.160356</td>\n",
              "      <td>-0.316968</td>\n",
              "      <td>1.304684</td>\n",
              "      <td>-0.549226</td>\n",
              "      <td>0.031494</td>\n",
              "    </tr>\n",
              "    <tr>\n",
              "      <th>199</th>\n",
              "      <td>-1.136200</td>\n",
              "      <td>1.811533</td>\n",
              "      <td>-1.950790</td>\n",
              "      <td>-0.483357</td>\n",
              "      <td>-1.019622</td>\n",
              "      <td>-2.247141</td>\n",
              "    </tr>\n",
              "    <tr>\n",
              "      <th>1302</th>\n",
              "      <td>3.632941</td>\n",
              "      <td>-3.290851</td>\n",
              "      <td>2.734505</td>\n",
              "      <td>0.938769</td>\n",
              "      <td>1.099058</td>\n",
              "      <td>4.016324</td>\n",
              "    </tr>\n",
              "    <tr>\n",
              "      <th>1179</th>\n",
              "      <td>-0.863491</td>\n",
              "      <td>0.917876</td>\n",
              "      <td>0.954894</td>\n",
              "      <td>-0.351571</td>\n",
              "      <td>1.202882</td>\n",
              "      <td>-0.061716</td>\n",
              "    </tr>\n",
              "    <tr>\n",
              "      <th>1493</th>\n",
              "      <td>2.059814</td>\n",
              "      <td>0.982491</td>\n",
              "      <td>-2.185012</td>\n",
              "      <td>2.271797</td>\n",
              "      <td>-2.643187</td>\n",
              "      <td>-0.149169</td>\n",
              "    </tr>\n",
              "    <tr>\n",
              "      <th>...</th>\n",
              "      <td>...</td>\n",
              "      <td>...</td>\n",
              "      <td>...</td>\n",
              "      <td>...</td>\n",
              "      <td>...</td>\n",
              "      <td>...</td>\n",
              "    </tr>\n",
              "    <tr>\n",
              "      <th>1638</th>\n",
              "      <td>0.424864</td>\n",
              "      <td>-1.297168</td>\n",
              "      <td>-0.244367</td>\n",
              "      <td>-0.007067</td>\n",
              "      <td>-0.522335</td>\n",
              "      <td>0.348682</td>\n",
              "    </tr>\n",
              "    <tr>\n",
              "      <th>1095</th>\n",
              "      <td>-1.003740</td>\n",
              "      <td>0.388196</td>\n",
              "      <td>-2.317192</td>\n",
              "      <td>-2.607750</td>\n",
              "      <td>-0.779164</td>\n",
              "      <td>-2.905001</td>\n",
              "    </tr>\n",
              "    <tr>\n",
              "      <th>1130</th>\n",
              "      <td>-1.599621</td>\n",
              "      <td>3.417978</td>\n",
              "      <td>2.005670</td>\n",
              "      <td>1.239563</td>\n",
              "      <td>2.041648</td>\n",
              "      <td>0.310542</td>\n",
              "    </tr>\n",
              "    <tr>\n",
              "      <th>1294</th>\n",
              "      <td>2.483045</td>\n",
              "      <td>-0.200839</td>\n",
              "      <td>-1.783446</td>\n",
              "      <td>-3.289138</td>\n",
              "      <td>-0.246033</td>\n",
              "      <td>-1.781840</td>\n",
              "    </tr>\n",
              "    <tr>\n",
              "      <th>860</th>\n",
              "      <td>2.137097</td>\n",
              "      <td>-1.701044</td>\n",
              "      <td>-1.135169</td>\n",
              "      <td>-2.575019</td>\n",
              "      <td>-0.337411</td>\n",
              "      <td>-0.717670</td>\n",
              "    </tr>\n",
              "  </tbody>\n",
              "</table>\n",
              "<p>1470 rows × 6 columns</p>\n",
              "</div>\n",
              "      <button class=\"colab-df-convert\" onclick=\"convertToInteractive('df-d9129795-c79c-4d02-9b6d-6ebaebf26996')\"\n",
              "              title=\"Convert this dataframe to an interactive table.\"\n",
              "              style=\"display:none;\">\n",
              "        \n",
              "  <svg xmlns=\"http://www.w3.org/2000/svg\" height=\"24px\"viewBox=\"0 0 24 24\"\n",
              "       width=\"24px\">\n",
              "    <path d=\"M0 0h24v24H0V0z\" fill=\"none\"/>\n",
              "    <path d=\"M18.56 5.44l.94 2.06.94-2.06 2.06-.94-2.06-.94-.94-2.06-.94 2.06-2.06.94zm-11 1L8.5 8.5l.94-2.06 2.06-.94-2.06-.94L8.5 2.5l-.94 2.06-2.06.94zm10 10l.94 2.06.94-2.06 2.06-.94-2.06-.94-.94-2.06-.94 2.06-2.06.94z\"/><path d=\"M17.41 7.96l-1.37-1.37c-.4-.4-.92-.59-1.43-.59-.52 0-1.04.2-1.43.59L10.3 9.45l-7.72 7.72c-.78.78-.78 2.05 0 2.83L4 21.41c.39.39.9.59 1.41.59.51 0 1.02-.2 1.41-.59l7.78-7.78 2.81-2.81c.8-.78.8-2.07 0-2.86zM5.41 20L4 18.59l7.72-7.72 1.47 1.35L5.41 20z\"/>\n",
              "  </svg>\n",
              "      </button>\n",
              "      \n",
              "  <style>\n",
              "    .colab-df-container {\n",
              "      display:flex;\n",
              "      flex-wrap:wrap;\n",
              "      gap: 12px;\n",
              "    }\n",
              "\n",
              "    .colab-df-convert {\n",
              "      background-color: #E8F0FE;\n",
              "      border: none;\n",
              "      border-radius: 50%;\n",
              "      cursor: pointer;\n",
              "      display: none;\n",
              "      fill: #1967D2;\n",
              "      height: 32px;\n",
              "      padding: 0 0 0 0;\n",
              "      width: 32px;\n",
              "    }\n",
              "\n",
              "    .colab-df-convert:hover {\n",
              "      background-color: #E2EBFA;\n",
              "      box-shadow: 0px 1px 2px rgba(60, 64, 67, 0.3), 0px 1px 3px 1px rgba(60, 64, 67, 0.15);\n",
              "      fill: #174EA6;\n",
              "    }\n",
              "\n",
              "    [theme=dark] .colab-df-convert {\n",
              "      background-color: #3B4455;\n",
              "      fill: #D2E3FC;\n",
              "    }\n",
              "\n",
              "    [theme=dark] .colab-df-convert:hover {\n",
              "      background-color: #434B5C;\n",
              "      box-shadow: 0px 1px 3px 1px rgba(0, 0, 0, 0.15);\n",
              "      filter: drop-shadow(0px 1px 2px rgba(0, 0, 0, 0.3));\n",
              "      fill: #FFFFFF;\n",
              "    }\n",
              "  </style>\n",
              "\n",
              "      <script>\n",
              "        const buttonEl =\n",
              "          document.querySelector('#df-d9129795-c79c-4d02-9b6d-6ebaebf26996 button.colab-df-convert');\n",
              "        buttonEl.style.display =\n",
              "          google.colab.kernel.accessAllowed ? 'block' : 'none';\n",
              "\n",
              "        async function convertToInteractive(key) {\n",
              "          const element = document.querySelector('#df-d9129795-c79c-4d02-9b6d-6ebaebf26996');\n",
              "          const dataTable =\n",
              "            await google.colab.kernel.invokeFunction('convertToInteractive',\n",
              "                                                     [key], {});\n",
              "          if (!dataTable) return;\n",
              "\n",
              "          const docLinkHtml = 'Like what you see? Visit the ' +\n",
              "            '<a target=\"_blank\" href=https://colab.research.google.com/notebooks/data_table.ipynb>data table notebook</a>'\n",
              "            + ' to learn more about interactive tables.';\n",
              "          element.innerHTML = '';\n",
              "          dataTable['output_type'] = 'display_data';\n",
              "          await google.colab.output.renderOutput(dataTable, element);\n",
              "          const docLink = document.createElement('div');\n",
              "          docLink.innerHTML = docLinkHtml;\n",
              "          element.appendChild(docLink);\n",
              "        }\n",
              "      </script>\n",
              "    </div>\n",
              "  </div>\n",
              "  "
            ]
          },
          "metadata": {},
          "execution_count": 285
        }
      ]
    },
    {
      "cell_type": "code",
      "source": [
        "validate_mediciones"
      ],
      "metadata": {
        "colab": {
          "base_uri": "https://localhost:8080/",
          "height": 0
        },
        "id": "rs38Wrm93aOo",
        "outputId": "cda8a2a9-fe34-49fc-8ba7-54854291a337"
      },
      "execution_count": 286,
      "outputs": [
        {
          "output_type": "execute_result",
          "data": {
            "text/plain": [
              "      medicion_s1  medicion_s2  medicion_s3  medicion_s4  medicion_s5  \\\n",
              "1034    -0.892006     1.439997    -0.818899    -1.757583     0.395728   \n",
              "1176    -0.119654     0.623272     1.686464    -3.054672     2.883756   \n",
              "67      -0.607433    -0.633538     0.409086     0.095635     0.173917   \n",
              "1330     2.109708     2.259569     0.920400     1.701122     0.564280   \n",
              "650     -1.506154    -0.364690    -1.052776     2.013340    -1.806248   \n",
              "...           ...          ...          ...          ...          ...   \n",
              "1817     0.670187     0.426846    -0.344411    -0.078890    -0.175600   \n",
              "570     -0.957922     2.139764     2.265303    -0.964087     2.876682   \n",
              "888      0.204601    -0.553506    -0.561479     0.236331    -0.716695   \n",
              "1735    -0.275875     1.882515    -1.340817     1.568883    -1.360953   \n",
              "465     -1.142124    -0.782088    -0.253755    -1.646763     0.314294   \n",
              "\n",
              "      medicion_s6  \n",
              "1034    -1.912480  \n",
              "1176    -0.470336  \n",
              "67       0.326162  \n",
              "1330     1.149038  \n",
              "650     -0.078752  \n",
              "...           ...  \n",
              "1817    -0.200547  \n",
              "570      0.092883  \n",
              "888     -0.025651  \n",
              "1735    -0.803700  \n",
              "465     -0.911170  \n",
              "\n",
              "[630 rows x 6 columns]"
            ],
            "text/html": [
              "\n",
              "  <div id=\"df-5db9cf79-2eb4-4f02-93d4-57e6a1745f93\">\n",
              "    <div class=\"colab-df-container\">\n",
              "      <div>\n",
              "<style scoped>\n",
              "    .dataframe tbody tr th:only-of-type {\n",
              "        vertical-align: middle;\n",
              "    }\n",
              "\n",
              "    .dataframe tbody tr th {\n",
              "        vertical-align: top;\n",
              "    }\n",
              "\n",
              "    .dataframe thead th {\n",
              "        text-align: right;\n",
              "    }\n",
              "</style>\n",
              "<table border=\"1\" class=\"dataframe\">\n",
              "  <thead>\n",
              "    <tr style=\"text-align: right;\">\n",
              "      <th></th>\n",
              "      <th>medicion_s1</th>\n",
              "      <th>medicion_s2</th>\n",
              "      <th>medicion_s3</th>\n",
              "      <th>medicion_s4</th>\n",
              "      <th>medicion_s5</th>\n",
              "      <th>medicion_s6</th>\n",
              "    </tr>\n",
              "  </thead>\n",
              "  <tbody>\n",
              "    <tr>\n",
              "      <th>1034</th>\n",
              "      <td>-0.892006</td>\n",
              "      <td>1.439997</td>\n",
              "      <td>-0.818899</td>\n",
              "      <td>-1.757583</td>\n",
              "      <td>0.395728</td>\n",
              "      <td>-1.912480</td>\n",
              "    </tr>\n",
              "    <tr>\n",
              "      <th>1176</th>\n",
              "      <td>-0.119654</td>\n",
              "      <td>0.623272</td>\n",
              "      <td>1.686464</td>\n",
              "      <td>-3.054672</td>\n",
              "      <td>2.883756</td>\n",
              "      <td>-0.470336</td>\n",
              "    </tr>\n",
              "    <tr>\n",
              "      <th>67</th>\n",
              "      <td>-0.607433</td>\n",
              "      <td>-0.633538</td>\n",
              "      <td>0.409086</td>\n",
              "      <td>0.095635</td>\n",
              "      <td>0.173917</td>\n",
              "      <td>0.326162</td>\n",
              "    </tr>\n",
              "    <tr>\n",
              "      <th>1330</th>\n",
              "      <td>2.109708</td>\n",
              "      <td>2.259569</td>\n",
              "      <td>0.920400</td>\n",
              "      <td>1.701122</td>\n",
              "      <td>0.564280</td>\n",
              "      <td>1.149038</td>\n",
              "    </tr>\n",
              "    <tr>\n",
              "      <th>650</th>\n",
              "      <td>-1.506154</td>\n",
              "      <td>-0.364690</td>\n",
              "      <td>-1.052776</td>\n",
              "      <td>2.013340</td>\n",
              "      <td>-1.806248</td>\n",
              "      <td>-0.078752</td>\n",
              "    </tr>\n",
              "    <tr>\n",
              "      <th>...</th>\n",
              "      <td>...</td>\n",
              "      <td>...</td>\n",
              "      <td>...</td>\n",
              "      <td>...</td>\n",
              "      <td>...</td>\n",
              "      <td>...</td>\n",
              "    </tr>\n",
              "    <tr>\n",
              "      <th>1817</th>\n",
              "      <td>0.670187</td>\n",
              "      <td>0.426846</td>\n",
              "      <td>-0.344411</td>\n",
              "      <td>-0.078890</td>\n",
              "      <td>-0.175600</td>\n",
              "      <td>-0.200547</td>\n",
              "    </tr>\n",
              "    <tr>\n",
              "      <th>570</th>\n",
              "      <td>-0.957922</td>\n",
              "      <td>2.139764</td>\n",
              "      <td>2.265303</td>\n",
              "      <td>-0.964087</td>\n",
              "      <td>2.876682</td>\n",
              "      <td>0.092883</td>\n",
              "    </tr>\n",
              "    <tr>\n",
              "      <th>888</th>\n",
              "      <td>0.204601</td>\n",
              "      <td>-0.553506</td>\n",
              "      <td>-0.561479</td>\n",
              "      <td>0.236331</td>\n",
              "      <td>-0.716695</td>\n",
              "      <td>-0.025651</td>\n",
              "    </tr>\n",
              "    <tr>\n",
              "      <th>1735</th>\n",
              "      <td>-0.275875</td>\n",
              "      <td>1.882515</td>\n",
              "      <td>-1.340817</td>\n",
              "      <td>1.568883</td>\n",
              "      <td>-1.360953</td>\n",
              "      <td>-0.803700</td>\n",
              "    </tr>\n",
              "    <tr>\n",
              "      <th>465</th>\n",
              "      <td>-1.142124</td>\n",
              "      <td>-0.782088</td>\n",
              "      <td>-0.253755</td>\n",
              "      <td>-1.646763</td>\n",
              "      <td>0.314294</td>\n",
              "      <td>-0.911170</td>\n",
              "    </tr>\n",
              "  </tbody>\n",
              "</table>\n",
              "<p>630 rows × 6 columns</p>\n",
              "</div>\n",
              "      <button class=\"colab-df-convert\" onclick=\"convertToInteractive('df-5db9cf79-2eb4-4f02-93d4-57e6a1745f93')\"\n",
              "              title=\"Convert this dataframe to an interactive table.\"\n",
              "              style=\"display:none;\">\n",
              "        \n",
              "  <svg xmlns=\"http://www.w3.org/2000/svg\" height=\"24px\"viewBox=\"0 0 24 24\"\n",
              "       width=\"24px\">\n",
              "    <path d=\"M0 0h24v24H0V0z\" fill=\"none\"/>\n",
              "    <path d=\"M18.56 5.44l.94 2.06.94-2.06 2.06-.94-2.06-.94-.94-2.06-.94 2.06-2.06.94zm-11 1L8.5 8.5l.94-2.06 2.06-.94-2.06-.94L8.5 2.5l-.94 2.06-2.06.94zm10 10l.94 2.06.94-2.06 2.06-.94-2.06-.94-.94-2.06-.94 2.06-2.06.94z\"/><path d=\"M17.41 7.96l-1.37-1.37c-.4-.4-.92-.59-1.43-.59-.52 0-1.04.2-1.43.59L10.3 9.45l-7.72 7.72c-.78.78-.78 2.05 0 2.83L4 21.41c.39.39.9.59 1.41.59.51 0 1.02-.2 1.41-.59l7.78-7.78 2.81-2.81c.8-.78.8-2.07 0-2.86zM5.41 20L4 18.59l7.72-7.72 1.47 1.35L5.41 20z\"/>\n",
              "  </svg>\n",
              "      </button>\n",
              "      \n",
              "  <style>\n",
              "    .colab-df-container {\n",
              "      display:flex;\n",
              "      flex-wrap:wrap;\n",
              "      gap: 12px;\n",
              "    }\n",
              "\n",
              "    .colab-df-convert {\n",
              "      background-color: #E8F0FE;\n",
              "      border: none;\n",
              "      border-radius: 50%;\n",
              "      cursor: pointer;\n",
              "      display: none;\n",
              "      fill: #1967D2;\n",
              "      height: 32px;\n",
              "      padding: 0 0 0 0;\n",
              "      width: 32px;\n",
              "    }\n",
              "\n",
              "    .colab-df-convert:hover {\n",
              "      background-color: #E2EBFA;\n",
              "      box-shadow: 0px 1px 2px rgba(60, 64, 67, 0.3), 0px 1px 3px 1px rgba(60, 64, 67, 0.15);\n",
              "      fill: #174EA6;\n",
              "    }\n",
              "\n",
              "    [theme=dark] .colab-df-convert {\n",
              "      background-color: #3B4455;\n",
              "      fill: #D2E3FC;\n",
              "    }\n",
              "\n",
              "    [theme=dark] .colab-df-convert:hover {\n",
              "      background-color: #434B5C;\n",
              "      box-shadow: 0px 1px 3px 1px rgba(0, 0, 0, 0.15);\n",
              "      filter: drop-shadow(0px 1px 2px rgba(0, 0, 0, 0.3));\n",
              "      fill: #FFFFFF;\n",
              "    }\n",
              "  </style>\n",
              "\n",
              "      <script>\n",
              "        const buttonEl =\n",
              "          document.querySelector('#df-5db9cf79-2eb4-4f02-93d4-57e6a1745f93 button.colab-df-convert');\n",
              "        buttonEl.style.display =\n",
              "          google.colab.kernel.accessAllowed ? 'block' : 'none';\n",
              "\n",
              "        async function convertToInteractive(key) {\n",
              "          const element = document.querySelector('#df-5db9cf79-2eb4-4f02-93d4-57e6a1745f93');\n",
              "          const dataTable =\n",
              "            await google.colab.kernel.invokeFunction('convertToInteractive',\n",
              "                                                     [key], {});\n",
              "          if (!dataTable) return;\n",
              "\n",
              "          const docLinkHtml = 'Like what you see? Visit the ' +\n",
              "            '<a target=\"_blank\" href=https://colab.research.google.com/notebooks/data_table.ipynb>data table notebook</a>'\n",
              "            + ' to learn more about interactive tables.';\n",
              "          element.innerHTML = '';\n",
              "          dataTable['output_type'] = 'display_data';\n",
              "          await google.colab.output.renderOutput(dataTable, element);\n",
              "          const docLink = document.createElement('div');\n",
              "          docLink.innerHTML = docLinkHtml;\n",
              "          element.appendChild(docLink);\n",
              "        }\n",
              "      </script>\n",
              "    </div>\n",
              "  </div>\n",
              "  "
            ]
          },
          "metadata": {},
          "execution_count": 286
        }
      ]
    },
    {
      "cell_type": "code",
      "source": [
        "train_tipo_erupcion"
      ],
      "metadata": {
        "colab": {
          "base_uri": "https://localhost:8080/"
        },
        "id": "W6GYlyzh3p08",
        "outputId": "36a68a45-27da-4d01-df47-be94082b18cc"
      },
      "execution_count": 287,
      "outputs": [
        {
          "output_type": "execute_result",
          "data": {
            "text/plain": [
              "906     4\n",
              "199     0\n",
              "1302    2\n",
              "1179    0\n",
              "1493    0\n",
              "       ..\n",
              "1638    4\n",
              "1095    0\n",
              "1130    1\n",
              "1294    4\n",
              "860     3\n",
              "Name: tipo_erupcion, Length: 1470, dtype: int64"
            ]
          },
          "metadata": {},
          "execution_count": 287
        }
      ]
    },
    {
      "cell_type": "code",
      "source": [
        "validate_tipo_erupcion"
      ],
      "metadata": {
        "colab": {
          "base_uri": "https://localhost:8080/"
        },
        "id": "bTr27R973vG-",
        "outputId": "4089bb6a-436b-4931-ca11-58a3129d98d6"
      },
      "execution_count": 288,
      "outputs": [
        {
          "output_type": "execute_result",
          "data": {
            "text/plain": [
              "1034    0\n",
              "1176    2\n",
              "67      3\n",
              "1330    4\n",
              "650     3\n",
              "       ..\n",
              "1817    4\n",
              "570     4\n",
              "888     3\n",
              "1735    0\n",
              "465     3\n",
              "Name: tipo_erupcion, Length: 630, dtype: int64"
            ]
          },
          "metadata": {},
          "execution_count": 288
        }
      ]
    },
    {
      "cell_type": "code",
      "source": [
        "# Estandarización del conjunto de datos\n",
        "Scaler = StandardScaler()\n",
        "train_mediciones = Scaler.fit_transform(train_mediciones)\n",
        "validate_mediciones = Scaler.fit_transform(validate_mediciones)"
      ],
      "metadata": {
        "id": "zzHjk64vGwzo"
      },
      "execution_count": 289,
      "outputs": []
    },
    {
      "cell_type": "markdown",
      "source": [
        "### 2.4 Definición del modelo: Random Forest"
      ],
      "metadata": {
        "id": "_Dr9k-l3IHu3"
      }
    },
    {
      "cell_type": "code",
      "source": [
        "#Definición modelo: RandomForest\n",
        "rf = RandomForestClassifier(n_estimators=100, random_state=42)"
      ],
      "metadata": {
        "id": "Kn-27eev9Y3T"
      },
      "execution_count": 290,
      "outputs": []
    },
    {
      "cell_type": "markdown",
      "source": [
        "**Entrenamiento:** Se entrena el modelo con el conjunto de datos de entrenamiento: ***train_mediciones y train_tipo_erupcion***"
      ],
      "metadata": {
        "id": "yIXROJ8kMqfH"
      }
    },
    {
      "cell_type": "code",
      "source": [
        "#Entrenamiento:\n",
        "#Entrenar el modelo con el conjunto de datos de entrenamiento\n",
        "rf.fit(train_mediciones, train_tipo_erupcion)\n",
        "#Devuelve Random Forest ya entrenado"
      ],
      "metadata": {
        "colab": {
          "base_uri": "https://localhost:8080/"
        },
        "id": "iuZoV_J2yb4h",
        "outputId": "35f00d0e-a101-4dfa-b3dc-0df309a85dcd"
      },
      "execution_count": 291,
      "outputs": [
        {
          "output_type": "execute_result",
          "data": {
            "text/plain": [
              "RandomForestClassifier(random_state=42)"
            ]
          },
          "metadata": {},
          "execution_count": 291
        }
      ]
    },
    {
      "cell_type": "markdown",
      "source": [
        "**Predicción:** Se realizan las predciones con los datos de validación: ***validate_mediciones***"
      ],
      "metadata": {
        "id": "bPwNtrqhMvl8"
      }
    },
    {
      "cell_type": "code",
      "source": [
        "#Predicción:\n",
        "#Se obtienen predicciones con el conjunto de datos de validación\n",
        "predicciones_tipo_erupcion = rf.predict(validate_mediciones)\n",
        "predicciones_tipo_erupcion[:6]"
      ],
      "metadata": {
        "colab": {
          "base_uri": "https://localhost:8080/"
        },
        "id": "4yYy1nA9BB1s",
        "outputId": "b9ac3d10-8705-4f2e-9c9b-46e23625aa2a"
      },
      "execution_count": 292,
      "outputs": [
        {
          "output_type": "execute_result",
          "data": {
            "text/plain": [
              "array([0, 4, 3, 4, 1, 4])"
            ]
          },
          "metadata": {},
          "execution_count": 292
        }
      ]
    },
    {
      "cell_type": "markdown",
      "source": [
        "**Evaluación:** Se mide la precisión de la predicción con el método **f1-score** entre: **validate_tipo_erupcion y predicciones_tipo_erupcion**"
      ],
      "metadata": {
        "id": "9g0ZHc6uMxXE"
      }
    },
    {
      "cell_type": "code",
      "source": [
        "# Evaluación de la precisión: f1-score\n",
        "print(f1_score(validate_tipo_erupcion, predicciones_tipo_erupcion, average='macro'))"
      ],
      "metadata": {
        "colab": {
          "base_uri": "https://localhost:8080/"
        },
        "outputId": "619940c1-c2c0-40fc-d045-eaa1ce7194bc",
        "id": "xBSTmJyyIH7d"
      },
      "execution_count": 293,
      "outputs": [
        {
          "output_type": "stream",
          "name": "stdout",
          "text": [
            "0.7551866326680321\n"
          ]
        }
      ]
    },
    {
      "cell_type": "markdown",
      "source": [
        "La precisión es de **0.75**. Valor aceptable pero con amplio margen de mejora. *texto en cursiva*"
      ],
      "metadata": {
        "id": "Znk4WXjU-0IK"
      }
    },
    {
      "cell_type": "markdown",
      "source": [
        "**Test de predicción:** Se realiza la predicción del tipo de erupción para los valores de mediciones contenidos en el dataset **df_test**.\n"
      ],
      "metadata": {
        "id": "hxCOLHkcOmpF"
      }
    },
    {
      "cell_type": "code",
      "source": [
        "resultados = rf.predict(df_test)"
      ],
      "metadata": {
        "id": "uDrjzxTIO6Mx"
      },
      "execution_count": 294,
      "outputs": []
    },
    {
      "cell_type": "code",
      "source": [
        "print(\"Reultados finales Nº 1:\\n\", resultados)"
      ],
      "metadata": {
        "colab": {
          "base_uri": "https://localhost:8080/"
        },
        "id": "Zvnl94ljR7SH",
        "outputId": "eaac17fa-151e-4dcf-dac6-f5097fba7177"
      },
      "execution_count": 295,
      "outputs": [
        {
          "output_type": "stream",
          "name": "stdout",
          "text": [
            "Reultados finales Nº 1:\n",
            " [1 3 2 0 3 2 4 1 2 3 1 4 1 1 4 4 4 4 4 0 1 2 4 0 0 3 2 1 2 4 2 4 4 1 3 1 0\n",
            " 4 1 0 4 2 3 2 2 0 1 1 0 4 4 0 4 0 4 4 1 3 3 0 1 0 3 1 4 1 1 0 2 1 2 1 4 1\n",
            " 4 2 2 3 2 3 4 1 1 4 1 1 2 3 1 2 2 4 1 1 0 1 4 2 2 4 2 0 0 4 1 3 4 2 1 1 4\n",
            " 1 2 3 1 0 1 3 2 0 0 4 4 1 1 2 4 1 3 2 2 1 4 0 0 2 3 0 2 4 0 4 1 2 1 3 3 3\n",
            " 4 4 1 2 1 2 1 4 1 4 4 2 0 2 3 1 1 4 0 3 0 0 2 2 0 4 1 2 3 0 3 4 2 1 0 4 2\n",
            " 1 0 3 4 2 1 1 2 4 0 0 0 4 1 2 0 2 4 3 2 2 1 1 1 1 0 0 2 1 1 3 4 2 2 1 2 3\n",
            " 1 0 3 2 1 2 2 4 0 2 4 3 4 4 0 3 3 3 1 4 3 0 2 2 4 1 2 0 2 3 0 3 1 1 0 3 2\n",
            " 4 1 1 0 0 2 4 2 4 1 2 1 4 2 0 4 0 1 4 2 4 2 1 3 1 1 4 1 1 2 2 2 1 0 2 0 1\n",
            " 4 4 1 2 0 4 0 0 4 4 4 1 3 1 3 4 1 4 0 0 4 1 4 4 0 2 1 2 3 1 2 1 3 3 3 0 4\n",
            " 2 1 1 2 0 2 1 2 3 4 0 3 2 4 4 2 1 0 4 4 0 1 4 3 4 4 1 4 4 3 1 1 2 2 1 1 4\n",
            " 3 3 2 1 4 4 0 2 4 1 4 0 1 1 4 2 3 2 1 4 4 2 2 3 1 1 2 4 1 4 0 1 1 4 1 0 0\n",
            " 0 1 0 0 1 1 4 4 0 2 1 4 4 3 1 3 0 4 4 1 2 2 4 0 2 3 0 4 2 4 0 3 0 3 1 2 2\n",
            " 0 3 2 4 4 1 2 3 0 1 4 2 3 4 2 0 4 4 1 4 2 3 2 0 2 0 3 3 1 4 0 1 1 3 0 4 1\n",
            " 3 4 0 0 2 1 4 4 1 1 4 0 3 4 1 4 2 1 4 4 4 1 4 1 3 1 4 1 0 4 2 0 0 0 0 2 3\n",
            " 4 1 2 4 1 0 3 3 4 1 1 2 3 1 4 1 1 1 1 4 0 4 2 4 2 2 4 4 0 0 2 2 0 3 4 0 4\n",
            " 4 3 2 0 3 3 2 1 4 3 2 1 2 0 4 4 2 3 4 1 4 0 1 2 4 4 1 1 2 2 0 4 1 3 3 2 3\n",
            " 0 1 0 0 3 0 2 3 2 0 1 1 0 1 0 4 0 2 4 1 2 1 4 0 1 4 0 0 3 1 2 4 4 3 0 1 3\n",
            " 0 0 1 4 4 4 4 4 0 1 4 1 4 1 4 2 1 1 0 1 1 1 2 0 1 0 1 2 3 3 4 1 2 4 1 2 1\n",
            " 1 1 3 0 1 4 3 1 2 1 1 2 3 1 0 3 3 2 2 1 2 0 4 2 1 1 2 4 3 3 3 4 1 1 1 1 4\n",
            " 4 3 0 1 2 1 3 4 2 2 4 1 3 3 3 1 3 1 1 1 1 3 1 1 4 2 1 1 2 2 3 1 1 1 0 2 2\n",
            " 2 1 3 2 3 2 1 0 0 3 0 1 2 2 4 1 2 1 1 3 1 2 4 4 1 4 3 4 4 0 1 1 1 1 4 2 2\n",
            " 1 2 4 4 2 0 2 1 1 3 2 0 4 1 2 1 1 4 3 4 2 4 3 4 0 4 2 1 4 2 2 2 1 4 3 4 2\n",
            " 2 4 0 1 3 0 1 3 4 1 2 1 1 2 2 0 0 2 1 0 2 0 4 0 1 0 2 4 3 1 1 1 2 2 4 2 4\n",
            " 1 1 0 1 1 0 2 2 2 2 1 3 1 2 0 1 2 0 1 4 0 2 1 3 2 1 4 3 0 3 0 0 4 1 2 4 0\n",
            " 4 3 3 1 4 1 2 3 4 0 1 4]\n"
          ]
        }
      ]
    },
    {
      "cell_type": "markdown",
      "source": [
        "**Preparación de resultados:** Se le da formato a los resultados obtenidos según las especificaciones paras su entrega."
      ],
      "metadata": {
        "id": "kjvxCUa0Sedf"
      }
    },
    {
      "cell_type": "code",
      "source": [
        "file = pd.DataFrame({'resultados_finales': resultados})\n",
        "file.to_csv('Resultados_predicciones_erupciones.csv', index=False)"
      ],
      "metadata": {
        "id": "ekkLD1wuRxoW"
      },
      "execution_count": 296,
      "outputs": []
    }
  ]
}